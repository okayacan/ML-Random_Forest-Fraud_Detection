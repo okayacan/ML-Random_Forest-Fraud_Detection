{
 "cells": [
  {
   "cell_type": "markdown",
   "id": "229e3eee-e331-4409-a761-c06b84ad6191",
   "metadata": {},
   "source": [
    "### Credit Card Fraud Detection Project - Random Forest"
   ]
  },
  {
   "cell_type": "markdown",
   "id": "30c52beb-8863-47c8-97a5-07a96da09671",
   "metadata": {},
   "source": [
    "## Install Libraries"
   ]
  },
  {
   "cell_type": "code",
   "execution_count": 2,
   "id": "b24ebad4-b732-4a3d-8020-9449489dca97",
   "metadata": {},
   "outputs": [],
   "source": [
    "import pandas as pd\n",
    "import numpy as np\n",
    "\n",
    "# from config import CSV_FILE_URL\n",
    "import joblib\n",
    "\n",
    "from sklearn.model_selection import train_test_split\n",
    "from sklearn.preprocessing import MinMaxScaler\n",
    "from sklearn.model_selection import GridSearchCV\n",
    "\n",
    "from sklearn.metrics import classification_report, accuracy_score, precision_score, recall_score, f1_score\n",
    "from sklearn.metrics import precision_recall_curve, roc_auc_score, confusion_matrix\n",
    "import seaborn as sns\n",
    "import matplotlib.pyplot as plt\n",
    "%matplotlib inline\n",
    "\n",
    "from sklearn.ensemble import RandomForestClassifier"
   ]
  },
  {
   "cell_type": "code",
   "execution_count": 4,
   "id": "4dccf8f8-af12-4806-97a1-877b510edcd3",
   "metadata": {},
   "outputs": [
    {
     "data": {
      "text/plain": [
       "(284807, 31)"
      ]
     },
     "execution_count": 4,
     "metadata": {},
     "output_type": "execute_result"
    }
   ],
   "source": [
    "# Read the .csv file into a dataframe.\n",
    "\n",
    "df = pd.read_csv('creditcard.csv')\n",
    "df.shape"
   ]
  },
  {
   "cell_type": "code",
   "execution_count": 5,
   "id": "be577cd3-860d-4e69-9439-cd770ca0c6d2",
   "metadata": {},
   "outputs": [
    {
     "data": {
      "text/plain": [
       "Time      0\n",
       "V1        0\n",
       "V2        0\n",
       "V3        0\n",
       "V4        0\n",
       "V5        0\n",
       "V6        0\n",
       "V7        0\n",
       "V8        0\n",
       "V9        0\n",
       "V10       0\n",
       "V11       0\n",
       "V12       0\n",
       "V13       0\n",
       "V14       0\n",
       "V15       0\n",
       "V16       0\n",
       "V17       0\n",
       "V18       0\n",
       "V19       0\n",
       "V20       0\n",
       "V21       0\n",
       "V22       0\n",
       "V23       0\n",
       "V24       0\n",
       "V25       0\n",
       "V26       0\n",
       "V27       0\n",
       "V28       0\n",
       "Amount    0\n",
       "Class     0\n",
       "dtype: int64"
      ]
     },
     "execution_count": 5,
     "metadata": {},
     "output_type": "execute_result"
    }
   ],
   "source": [
    "# We check if null exists.\n",
    "\n",
    "df.isna().sum()"
   ]
  },
  {
   "cell_type": "markdown",
   "id": "c35f9983-53be-4acb-9292-6b70993c397d",
   "metadata": {},
   "source": [
    "## Exploring Data"
   ]
  },
  {
   "cell_type": "code",
   "execution_count": 6,
   "id": "fa75c436-5180-4f1e-92e9-4fbfc6443aaf",
   "metadata": {},
   "outputs": [
    {
     "data": {
      "text/html": [
       "<div>\n",
       "<style scoped>\n",
       "    .dataframe tbody tr th:only-of-type {\n",
       "        vertical-align: middle;\n",
       "    }\n",
       "\n",
       "    .dataframe tbody tr th {\n",
       "        vertical-align: top;\n",
       "    }\n",
       "\n",
       "    .dataframe thead th {\n",
       "        text-align: right;\n",
       "    }\n",
       "</style>\n",
       "<table border=\"1\" class=\"dataframe\">\n",
       "  <thead>\n",
       "    <tr style=\"text-align: right;\">\n",
       "      <th></th>\n",
       "      <th>Time</th>\n",
       "      <th>V1</th>\n",
       "      <th>V2</th>\n",
       "      <th>V3</th>\n",
       "      <th>V4</th>\n",
       "      <th>V5</th>\n",
       "      <th>V6</th>\n",
       "      <th>V7</th>\n",
       "      <th>V8</th>\n",
       "      <th>V9</th>\n",
       "      <th>...</th>\n",
       "      <th>V20</th>\n",
       "      <th>V21</th>\n",
       "      <th>V22</th>\n",
       "      <th>V23</th>\n",
       "      <th>V24</th>\n",
       "      <th>V25</th>\n",
       "      <th>V26</th>\n",
       "      <th>V27</th>\n",
       "      <th>V28</th>\n",
       "      <th>Amount</th>\n",
       "    </tr>\n",
       "    <tr>\n",
       "      <th>Class</th>\n",
       "      <th></th>\n",
       "      <th></th>\n",
       "      <th></th>\n",
       "      <th></th>\n",
       "      <th></th>\n",
       "      <th></th>\n",
       "      <th></th>\n",
       "      <th></th>\n",
       "      <th></th>\n",
       "      <th></th>\n",
       "      <th></th>\n",
       "      <th></th>\n",
       "      <th></th>\n",
       "      <th></th>\n",
       "      <th></th>\n",
       "      <th></th>\n",
       "      <th></th>\n",
       "      <th></th>\n",
       "      <th></th>\n",
       "      <th></th>\n",
       "      <th></th>\n",
       "    </tr>\n",
       "  </thead>\n",
       "  <tbody>\n",
       "    <tr>\n",
       "      <th>0</th>\n",
       "      <td>284315</td>\n",
       "      <td>284315</td>\n",
       "      <td>284315</td>\n",
       "      <td>284315</td>\n",
       "      <td>284315</td>\n",
       "      <td>284315</td>\n",
       "      <td>284315</td>\n",
       "      <td>284315</td>\n",
       "      <td>284315</td>\n",
       "      <td>284315</td>\n",
       "      <td>...</td>\n",
       "      <td>284315</td>\n",
       "      <td>284315</td>\n",
       "      <td>284315</td>\n",
       "      <td>284315</td>\n",
       "      <td>284315</td>\n",
       "      <td>284315</td>\n",
       "      <td>284315</td>\n",
       "      <td>284315</td>\n",
       "      <td>284315</td>\n",
       "      <td>284315</td>\n",
       "    </tr>\n",
       "    <tr>\n",
       "      <th>1</th>\n",
       "      <td>492</td>\n",
       "      <td>492</td>\n",
       "      <td>492</td>\n",
       "      <td>492</td>\n",
       "      <td>492</td>\n",
       "      <td>492</td>\n",
       "      <td>492</td>\n",
       "      <td>492</td>\n",
       "      <td>492</td>\n",
       "      <td>492</td>\n",
       "      <td>...</td>\n",
       "      <td>492</td>\n",
       "      <td>492</td>\n",
       "      <td>492</td>\n",
       "      <td>492</td>\n",
       "      <td>492</td>\n",
       "      <td>492</td>\n",
       "      <td>492</td>\n",
       "      <td>492</td>\n",
       "      <td>492</td>\n",
       "      <td>492</td>\n",
       "    </tr>\n",
       "  </tbody>\n",
       "</table>\n",
       "<p>2 rows × 30 columns</p>\n",
       "</div>"
      ],
      "text/plain": [
       "         Time      V1      V2      V3      V4      V5      V6      V7      V8  \\\n",
       "Class                                                                           \n",
       "0      284315  284315  284315  284315  284315  284315  284315  284315  284315   \n",
       "1         492     492     492     492     492     492     492     492     492   \n",
       "\n",
       "           V9  ...     V20     V21     V22     V23     V24     V25     V26  \\\n",
       "Class          ...                                                           \n",
       "0      284315  ...  284315  284315  284315  284315  284315  284315  284315   \n",
       "1         492  ...     492     492     492     492     492     492     492   \n",
       "\n",
       "          V27     V28  Amount  \n",
       "Class                          \n",
       "0      284315  284315  284315  \n",
       "1         492     492     492  \n",
       "\n",
       "[2 rows x 30 columns]"
      ]
     },
     "execution_count": 6,
     "metadata": {},
     "output_type": "execute_result"
    }
   ],
   "source": [
    "# 'Class' is target variable.\n",
    "\n",
    "df.groupby('Class').count()"
   ]
  },
  {
   "cell_type": "code",
   "execution_count": 7,
   "id": "3b43dd80-8e44-4609-a8ec-b5b20d67b850",
   "metadata": {},
   "outputs": [
    {
     "data": {
      "text/html": [
       "<div>\n",
       "<style scoped>\n",
       "    .dataframe tbody tr th:only-of-type {\n",
       "        vertical-align: middle;\n",
       "    }\n",
       "\n",
       "    .dataframe tbody tr th {\n",
       "        vertical-align: top;\n",
       "    }\n",
       "\n",
       "    .dataframe thead th {\n",
       "        text-align: right;\n",
       "    }\n",
       "</style>\n",
       "<table border=\"1\" class=\"dataframe\">\n",
       "  <thead>\n",
       "    <tr style=\"text-align: right;\">\n",
       "      <th></th>\n",
       "      <th>count</th>\n",
       "      <th>mean</th>\n",
       "      <th>std</th>\n",
       "      <th>min</th>\n",
       "      <th>25%</th>\n",
       "      <th>50%</th>\n",
       "      <th>75%</th>\n",
       "      <th>max</th>\n",
       "    </tr>\n",
       "  </thead>\n",
       "  <tbody>\n",
       "    <tr>\n",
       "      <th>Time</th>\n",
       "      <td>284807.0</td>\n",
       "      <td>9.481386e+04</td>\n",
       "      <td>47488.145955</td>\n",
       "      <td>0.000000</td>\n",
       "      <td>54201.500000</td>\n",
       "      <td>84692.000000</td>\n",
       "      <td>139320.500000</td>\n",
       "      <td>172792.000000</td>\n",
       "    </tr>\n",
       "    <tr>\n",
       "      <th>V1</th>\n",
       "      <td>284807.0</td>\n",
       "      <td>3.918649e-15</td>\n",
       "      <td>1.958696</td>\n",
       "      <td>-56.407510</td>\n",
       "      <td>-0.920373</td>\n",
       "      <td>0.018109</td>\n",
       "      <td>1.315642</td>\n",
       "      <td>2.454930</td>\n",
       "    </tr>\n",
       "    <tr>\n",
       "      <th>V2</th>\n",
       "      <td>284807.0</td>\n",
       "      <td>5.682686e-16</td>\n",
       "      <td>1.651309</td>\n",
       "      <td>-72.715728</td>\n",
       "      <td>-0.598550</td>\n",
       "      <td>0.065486</td>\n",
       "      <td>0.803724</td>\n",
       "      <td>22.057729</td>\n",
       "    </tr>\n",
       "    <tr>\n",
       "      <th>V3</th>\n",
       "      <td>284807.0</td>\n",
       "      <td>-8.761736e-15</td>\n",
       "      <td>1.516255</td>\n",
       "      <td>-48.325589</td>\n",
       "      <td>-0.890365</td>\n",
       "      <td>0.179846</td>\n",
       "      <td>1.027196</td>\n",
       "      <td>9.382558</td>\n",
       "    </tr>\n",
       "    <tr>\n",
       "      <th>V4</th>\n",
       "      <td>284807.0</td>\n",
       "      <td>2.811118e-15</td>\n",
       "      <td>1.415869</td>\n",
       "      <td>-5.683171</td>\n",
       "      <td>-0.848640</td>\n",
       "      <td>-0.019847</td>\n",
       "      <td>0.743341</td>\n",
       "      <td>16.875344</td>\n",
       "    </tr>\n",
       "    <tr>\n",
       "      <th>V5</th>\n",
       "      <td>284807.0</td>\n",
       "      <td>-1.552103e-15</td>\n",
       "      <td>1.380247</td>\n",
       "      <td>-113.743307</td>\n",
       "      <td>-0.691597</td>\n",
       "      <td>-0.054336</td>\n",
       "      <td>0.611926</td>\n",
       "      <td>34.801666</td>\n",
       "    </tr>\n",
       "    <tr>\n",
       "      <th>V6</th>\n",
       "      <td>284807.0</td>\n",
       "      <td>2.040130e-15</td>\n",
       "      <td>1.332271</td>\n",
       "      <td>-26.160506</td>\n",
       "      <td>-0.768296</td>\n",
       "      <td>-0.274187</td>\n",
       "      <td>0.398565</td>\n",
       "      <td>73.301626</td>\n",
       "    </tr>\n",
       "    <tr>\n",
       "      <th>V7</th>\n",
       "      <td>284807.0</td>\n",
       "      <td>-1.698953e-15</td>\n",
       "      <td>1.237094</td>\n",
       "      <td>-43.557242</td>\n",
       "      <td>-0.554076</td>\n",
       "      <td>0.040103</td>\n",
       "      <td>0.570436</td>\n",
       "      <td>120.589494</td>\n",
       "    </tr>\n",
       "    <tr>\n",
       "      <th>V8</th>\n",
       "      <td>284807.0</td>\n",
       "      <td>-1.893285e-16</td>\n",
       "      <td>1.194353</td>\n",
       "      <td>-73.216718</td>\n",
       "      <td>-0.208630</td>\n",
       "      <td>0.022358</td>\n",
       "      <td>0.327346</td>\n",
       "      <td>20.007208</td>\n",
       "    </tr>\n",
       "    <tr>\n",
       "      <th>V9</th>\n",
       "      <td>284807.0</td>\n",
       "      <td>-3.147640e-15</td>\n",
       "      <td>1.098632</td>\n",
       "      <td>-13.434066</td>\n",
       "      <td>-0.643098</td>\n",
       "      <td>-0.051429</td>\n",
       "      <td>0.597139</td>\n",
       "      <td>15.594995</td>\n",
       "    </tr>\n",
       "    <tr>\n",
       "      <th>V10</th>\n",
       "      <td>284807.0</td>\n",
       "      <td>1.772925e-15</td>\n",
       "      <td>1.088850</td>\n",
       "      <td>-24.588262</td>\n",
       "      <td>-0.535426</td>\n",
       "      <td>-0.092917</td>\n",
       "      <td>0.453923</td>\n",
       "      <td>23.745136</td>\n",
       "    </tr>\n",
       "    <tr>\n",
       "      <th>V11</th>\n",
       "      <td>284807.0</td>\n",
       "      <td>9.289524e-16</td>\n",
       "      <td>1.020713</td>\n",
       "      <td>-4.797473</td>\n",
       "      <td>-0.762494</td>\n",
       "      <td>-0.032757</td>\n",
       "      <td>0.739593</td>\n",
       "      <td>12.018913</td>\n",
       "    </tr>\n",
       "    <tr>\n",
       "      <th>V12</th>\n",
       "      <td>284807.0</td>\n",
       "      <td>-1.803266e-15</td>\n",
       "      <td>0.999201</td>\n",
       "      <td>-18.683715</td>\n",
       "      <td>-0.405571</td>\n",
       "      <td>0.140033</td>\n",
       "      <td>0.618238</td>\n",
       "      <td>7.848392</td>\n",
       "    </tr>\n",
       "    <tr>\n",
       "      <th>V13</th>\n",
       "      <td>284807.0</td>\n",
       "      <td>1.674888e-15</td>\n",
       "      <td>0.995274</td>\n",
       "      <td>-5.791881</td>\n",
       "      <td>-0.648539</td>\n",
       "      <td>-0.013568</td>\n",
       "      <td>0.662505</td>\n",
       "      <td>7.126883</td>\n",
       "    </tr>\n",
       "    <tr>\n",
       "      <th>V14</th>\n",
       "      <td>284807.0</td>\n",
       "      <td>1.475621e-15</td>\n",
       "      <td>0.958596</td>\n",
       "      <td>-19.214325</td>\n",
       "      <td>-0.425574</td>\n",
       "      <td>0.050601</td>\n",
       "      <td>0.493150</td>\n",
       "      <td>10.526766</td>\n",
       "    </tr>\n",
       "    <tr>\n",
       "      <th>V15</th>\n",
       "      <td>284807.0</td>\n",
       "      <td>3.501098e-15</td>\n",
       "      <td>0.915316</td>\n",
       "      <td>-4.498945</td>\n",
       "      <td>-0.582884</td>\n",
       "      <td>0.048072</td>\n",
       "      <td>0.648821</td>\n",
       "      <td>8.877742</td>\n",
       "    </tr>\n",
       "    <tr>\n",
       "      <th>V16</th>\n",
       "      <td>284807.0</td>\n",
       "      <td>1.392460e-15</td>\n",
       "      <td>0.876253</td>\n",
       "      <td>-14.129855</td>\n",
       "      <td>-0.468037</td>\n",
       "      <td>0.066413</td>\n",
       "      <td>0.523296</td>\n",
       "      <td>17.315112</td>\n",
       "    </tr>\n",
       "    <tr>\n",
       "      <th>V17</th>\n",
       "      <td>284807.0</td>\n",
       "      <td>-7.466538e-16</td>\n",
       "      <td>0.849337</td>\n",
       "      <td>-25.162799</td>\n",
       "      <td>-0.483748</td>\n",
       "      <td>-0.065676</td>\n",
       "      <td>0.399675</td>\n",
       "      <td>9.253526</td>\n",
       "    </tr>\n",
       "    <tr>\n",
       "      <th>V18</th>\n",
       "      <td>284807.0</td>\n",
       "      <td>4.258754e-16</td>\n",
       "      <td>0.838176</td>\n",
       "      <td>-9.498746</td>\n",
       "      <td>-0.498850</td>\n",
       "      <td>-0.003636</td>\n",
       "      <td>0.500807</td>\n",
       "      <td>5.041069</td>\n",
       "    </tr>\n",
       "    <tr>\n",
       "      <th>V19</th>\n",
       "      <td>284807.0</td>\n",
       "      <td>9.019919e-16</td>\n",
       "      <td>0.814041</td>\n",
       "      <td>-7.213527</td>\n",
       "      <td>-0.456299</td>\n",
       "      <td>0.003735</td>\n",
       "      <td>0.458949</td>\n",
       "      <td>5.591971</td>\n",
       "    </tr>\n",
       "    <tr>\n",
       "      <th>V20</th>\n",
       "      <td>284807.0</td>\n",
       "      <td>5.126845e-16</td>\n",
       "      <td>0.770925</td>\n",
       "      <td>-54.497720</td>\n",
       "      <td>-0.211721</td>\n",
       "      <td>-0.062481</td>\n",
       "      <td>0.133041</td>\n",
       "      <td>39.420904</td>\n",
       "    </tr>\n",
       "    <tr>\n",
       "      <th>V21</th>\n",
       "      <td>284807.0</td>\n",
       "      <td>1.473120e-16</td>\n",
       "      <td>0.734524</td>\n",
       "      <td>-34.830382</td>\n",
       "      <td>-0.228395</td>\n",
       "      <td>-0.029450</td>\n",
       "      <td>0.186377</td>\n",
       "      <td>27.202839</td>\n",
       "    </tr>\n",
       "    <tr>\n",
       "      <th>V22</th>\n",
       "      <td>284807.0</td>\n",
       "      <td>8.042109e-16</td>\n",
       "      <td>0.725702</td>\n",
       "      <td>-10.933144</td>\n",
       "      <td>-0.542350</td>\n",
       "      <td>0.006782</td>\n",
       "      <td>0.528554</td>\n",
       "      <td>10.503090</td>\n",
       "    </tr>\n",
       "    <tr>\n",
       "      <th>V23</th>\n",
       "      <td>284807.0</td>\n",
       "      <td>5.282512e-16</td>\n",
       "      <td>0.624460</td>\n",
       "      <td>-44.807735</td>\n",
       "      <td>-0.161846</td>\n",
       "      <td>-0.011193</td>\n",
       "      <td>0.147642</td>\n",
       "      <td>22.528412</td>\n",
       "    </tr>\n",
       "    <tr>\n",
       "      <th>V24</th>\n",
       "      <td>284807.0</td>\n",
       "      <td>4.456271e-15</td>\n",
       "      <td>0.605647</td>\n",
       "      <td>-2.836627</td>\n",
       "      <td>-0.354586</td>\n",
       "      <td>0.040976</td>\n",
       "      <td>0.439527</td>\n",
       "      <td>4.584549</td>\n",
       "    </tr>\n",
       "    <tr>\n",
       "      <th>V25</th>\n",
       "      <td>284807.0</td>\n",
       "      <td>1.426896e-15</td>\n",
       "      <td>0.521278</td>\n",
       "      <td>-10.295397</td>\n",
       "      <td>-0.317145</td>\n",
       "      <td>0.016594</td>\n",
       "      <td>0.350716</td>\n",
       "      <td>7.519589</td>\n",
       "    </tr>\n",
       "    <tr>\n",
       "      <th>V26</th>\n",
       "      <td>284807.0</td>\n",
       "      <td>1.701640e-15</td>\n",
       "      <td>0.482227</td>\n",
       "      <td>-2.604551</td>\n",
       "      <td>-0.326984</td>\n",
       "      <td>-0.052139</td>\n",
       "      <td>0.240952</td>\n",
       "      <td>3.517346</td>\n",
       "    </tr>\n",
       "    <tr>\n",
       "      <th>V27</th>\n",
       "      <td>284807.0</td>\n",
       "      <td>-3.662252e-16</td>\n",
       "      <td>0.403632</td>\n",
       "      <td>-22.565679</td>\n",
       "      <td>-0.070840</td>\n",
       "      <td>0.001342</td>\n",
       "      <td>0.091045</td>\n",
       "      <td>31.612198</td>\n",
       "    </tr>\n",
       "    <tr>\n",
       "      <th>V28</th>\n",
       "      <td>284807.0</td>\n",
       "      <td>-1.217809e-16</td>\n",
       "      <td>0.330083</td>\n",
       "      <td>-15.430084</td>\n",
       "      <td>-0.052960</td>\n",
       "      <td>0.011244</td>\n",
       "      <td>0.078280</td>\n",
       "      <td>33.847808</td>\n",
       "    </tr>\n",
       "    <tr>\n",
       "      <th>Amount</th>\n",
       "      <td>284807.0</td>\n",
       "      <td>8.834962e+01</td>\n",
       "      <td>250.120109</td>\n",
       "      <td>0.000000</td>\n",
       "      <td>5.600000</td>\n",
       "      <td>22.000000</td>\n",
       "      <td>77.165000</td>\n",
       "      <td>25691.160000</td>\n",
       "    </tr>\n",
       "    <tr>\n",
       "      <th>Class</th>\n",
       "      <td>284807.0</td>\n",
       "      <td>1.727486e-03</td>\n",
       "      <td>0.041527</td>\n",
       "      <td>0.000000</td>\n",
       "      <td>0.000000</td>\n",
       "      <td>0.000000</td>\n",
       "      <td>0.000000</td>\n",
       "      <td>1.000000</td>\n",
       "    </tr>\n",
       "  </tbody>\n",
       "</table>\n",
       "</div>"
      ],
      "text/plain": [
       "           count          mean           std         min           25%  \\\n",
       "Time    284807.0  9.481386e+04  47488.145955    0.000000  54201.500000   \n",
       "V1      284807.0  3.918649e-15      1.958696  -56.407510     -0.920373   \n",
       "V2      284807.0  5.682686e-16      1.651309  -72.715728     -0.598550   \n",
       "V3      284807.0 -8.761736e-15      1.516255  -48.325589     -0.890365   \n",
       "V4      284807.0  2.811118e-15      1.415869   -5.683171     -0.848640   \n",
       "V5      284807.0 -1.552103e-15      1.380247 -113.743307     -0.691597   \n",
       "V6      284807.0  2.040130e-15      1.332271  -26.160506     -0.768296   \n",
       "V7      284807.0 -1.698953e-15      1.237094  -43.557242     -0.554076   \n",
       "V8      284807.0 -1.893285e-16      1.194353  -73.216718     -0.208630   \n",
       "V9      284807.0 -3.147640e-15      1.098632  -13.434066     -0.643098   \n",
       "V10     284807.0  1.772925e-15      1.088850  -24.588262     -0.535426   \n",
       "V11     284807.0  9.289524e-16      1.020713   -4.797473     -0.762494   \n",
       "V12     284807.0 -1.803266e-15      0.999201  -18.683715     -0.405571   \n",
       "V13     284807.0  1.674888e-15      0.995274   -5.791881     -0.648539   \n",
       "V14     284807.0  1.475621e-15      0.958596  -19.214325     -0.425574   \n",
       "V15     284807.0  3.501098e-15      0.915316   -4.498945     -0.582884   \n",
       "V16     284807.0  1.392460e-15      0.876253  -14.129855     -0.468037   \n",
       "V17     284807.0 -7.466538e-16      0.849337  -25.162799     -0.483748   \n",
       "V18     284807.0  4.258754e-16      0.838176   -9.498746     -0.498850   \n",
       "V19     284807.0  9.019919e-16      0.814041   -7.213527     -0.456299   \n",
       "V20     284807.0  5.126845e-16      0.770925  -54.497720     -0.211721   \n",
       "V21     284807.0  1.473120e-16      0.734524  -34.830382     -0.228395   \n",
       "V22     284807.0  8.042109e-16      0.725702  -10.933144     -0.542350   \n",
       "V23     284807.0  5.282512e-16      0.624460  -44.807735     -0.161846   \n",
       "V24     284807.0  4.456271e-15      0.605647   -2.836627     -0.354586   \n",
       "V25     284807.0  1.426896e-15      0.521278  -10.295397     -0.317145   \n",
       "V26     284807.0  1.701640e-15      0.482227   -2.604551     -0.326984   \n",
       "V27     284807.0 -3.662252e-16      0.403632  -22.565679     -0.070840   \n",
       "V28     284807.0 -1.217809e-16      0.330083  -15.430084     -0.052960   \n",
       "Amount  284807.0  8.834962e+01    250.120109    0.000000      5.600000   \n",
       "Class   284807.0  1.727486e-03      0.041527    0.000000      0.000000   \n",
       "\n",
       "                 50%            75%            max  \n",
       "Time    84692.000000  139320.500000  172792.000000  \n",
       "V1          0.018109       1.315642       2.454930  \n",
       "V2          0.065486       0.803724      22.057729  \n",
       "V3          0.179846       1.027196       9.382558  \n",
       "V4         -0.019847       0.743341      16.875344  \n",
       "V5         -0.054336       0.611926      34.801666  \n",
       "V6         -0.274187       0.398565      73.301626  \n",
       "V7          0.040103       0.570436     120.589494  \n",
       "V8          0.022358       0.327346      20.007208  \n",
       "V9         -0.051429       0.597139      15.594995  \n",
       "V10        -0.092917       0.453923      23.745136  \n",
       "V11        -0.032757       0.739593      12.018913  \n",
       "V12         0.140033       0.618238       7.848392  \n",
       "V13        -0.013568       0.662505       7.126883  \n",
       "V14         0.050601       0.493150      10.526766  \n",
       "V15         0.048072       0.648821       8.877742  \n",
       "V16         0.066413       0.523296      17.315112  \n",
       "V17        -0.065676       0.399675       9.253526  \n",
       "V18        -0.003636       0.500807       5.041069  \n",
       "V19         0.003735       0.458949       5.591971  \n",
       "V20        -0.062481       0.133041      39.420904  \n",
       "V21        -0.029450       0.186377      27.202839  \n",
       "V22         0.006782       0.528554      10.503090  \n",
       "V23        -0.011193       0.147642      22.528412  \n",
       "V24         0.040976       0.439527       4.584549  \n",
       "V25         0.016594       0.350716       7.519589  \n",
       "V26        -0.052139       0.240952       3.517346  \n",
       "V27         0.001342       0.091045      31.612198  \n",
       "V28         0.011244       0.078280      33.847808  \n",
       "Amount     22.000000      77.165000   25691.160000  \n",
       "Class       0.000000       0.000000       1.000000  "
      ]
     },
     "execution_count": 7,
     "metadata": {},
     "output_type": "execute_result"
    }
   ],
   "source": [
    "df.describe().T"
   ]
  },
  {
   "cell_type": "code",
   "execution_count": 8,
   "id": "5f345475-05a9-435a-af1f-ffbedd9d9304",
   "metadata": {},
   "outputs": [
    {
     "data": {
      "text/plain": [
       "<AxesSubplot:xlabel='Class'>"
      ]
     },
     "execution_count": 8,
     "metadata": {},
     "output_type": "execute_result"
    },
    {
     "data": {
      "image/png": "[encoded data removed]",
      "text/plain": [
       "<Figure size 432x288 with 1 Axes>"
      ]
     },
     "metadata": {
      "needs_background": "light"
     },
     "output_type": "display_data"
    }
   ],
   "source": [
    "# '0' indicates no fraud; '1' fraud transactions.\n",
    "\n",
    "grouped_df = df[['Class','Time']].groupby('Class').count()\n",
    "grouped_df = grouped_df.rename(columns={\"Time\":\"Count\"})\n",
    "grouped_df.plot(kind=\"bar\")"
   ]
  },
  {
   "cell_type": "code",
   "execution_count": 14,
   "id": "7ad78a7e-8654-4765-b97a-d2f8c1f4ee31",
   "metadata": {},
   "outputs": [],
   "source": [
    "# It is evident from the above plot that data is highly imbalanced. The dataset has only 492 fraudulent transactions out of a total of 284807 transactions, which is a mere 0.17%."
   ]
  },
  {
   "cell_type": "markdown",
   "id": "8ef63fe7-cd07-44fe-89dc-f956f72dffd4",
   "metadata": {},
   "source": [
    "## Defining features (independent variables)"
   ]
  },
  {
   "cell_type": "code",
   "execution_count": 9,
   "id": "395de58e-2ed0-424f-b4f9-d076dd2e0179",
   "metadata": {},
   "outputs": [
    {
     "data": {
      "text/plain": [
       "Index(['Time', 'V1', 'V2', 'V3', 'V4', 'V5', 'V6', 'V7', 'V8', 'V9', 'V10',\n",
       "       'V11', 'V12', 'V13', 'V14', 'V15', 'V16', 'V17', 'V18', 'V19', 'V20',\n",
       "       'V21', 'V22', 'V23', 'V24', 'V25', 'V26', 'V27', 'V28', 'Amount',\n",
       "       'Class'],\n",
       "      dtype='object')"
      ]
     },
     "execution_count": 9,
     "metadata": {},
     "output_type": "execute_result"
    }
   ],
   "source": [
    "df.columns"
   ]
  },
  {
   "cell_type": "code",
   "execution_count": 10,
   "id": "a062192d-3daf-4296-8589-cd6addd1bc07",
   "metadata": {},
   "outputs": [
    {
     "data": {
      "text/plain": [
       "(284807, 30)"
      ]
     },
     "execution_count": 10,
     "metadata": {},
     "output_type": "execute_result"
    }
   ],
   "source": [
    "# Selecting predictor features. This will be used as x values.\n",
    "\n",
    "selected_features = df[['Time', 'V1', 'V2', 'V3', 'V4', 'V5', 'V6', 'V7', 'V8', 'V9', 'V10',\n",
    "       'V11', 'V12', 'V13', 'V14', 'V15', 'V16', 'V17', 'V18', 'V19', 'V20',\n",
    "       'V21', 'V22', 'V23', 'V24', 'V25', 'V26', 'V27', 'V28', 'Amount']]\n",
    "selected_features.shape"
   ]
  },
  {
   "cell_type": "code",
   "execution_count": 11,
   "id": "0d92eaab-3050-4335-82f3-0d01cfc5f6d3",
   "metadata": {},
   "outputs": [
    {
     "name": "stdout",
     "output_type": "stream",
     "text": [
      "Shape:  (284807, 30) (284807, 1)\n"
     ]
    }
   ],
   "source": [
    "# Defining features and target variables to X and y, respectively.\n",
    "# Note: Sklearn requires a two-dimensional array of values.\n",
    "# So we use reshape to create this.\n",
    "\n",
    "X = selected_features\n",
    "y = df[['Class']].values.reshape(-1, 1)\n",
    "\n",
    "print(\"Shape: \", X.shape, y.shape)"
   ]
  },
  {
   "cell_type": "markdown",
   "id": "741aa288-38fd-4e9b-bde5-853a745dba0b",
   "metadata": {},
   "source": [
    "## Train-Test Split"
   ]
  },
  {
   "cell_type": "code",
   "execution_count": 12,
   "id": "40d8a67f-ccd8-4316-b9e7-7dc0f64e8a17",
   "metadata": {},
   "outputs": [],
   "source": [
    "# We use 'train_test_split' to split the data into train and test datasets.\n",
    "\n",
    "X_train, X_test, y_train, y_test = train_test_split(X, y, test_size = 0.25, random_state = 42)"
   ]
  },
  {
   "cell_type": "code",
   "execution_count": 13,
   "id": "115f0777-efdc-4244-889f-c0deb77f19f7",
   "metadata": {},
   "outputs": [
    {
     "name": "stdout",
     "output_type": "stream",
     "text": [
      "Shape:  (213605, 30) (213605, 1) (71202, 30) (71202, 1)\n"
     ]
    }
   ],
   "source": [
    "print(\"Shape: \", X_train.shape, y_train.shape, X_test.shape, y_test.shape)"
   ]
  },
  {
   "cell_type": "markdown",
   "id": "06f1854a-2794-4af4-9bba-492a7d4808f2",
   "metadata": {},
   "source": [
    "## Data Pre-processing"
   ]
  },
  {
   "cell_type": "code",
   "execution_count": 18,
   "id": "204efe42-07c2-4a19-82a7-0a31cedde1a5",
   "metadata": {},
   "outputs": [],
   "source": [
    "# We scale the data using the MinMaxScaler.\n",
    "\n",
    "X_minmax = MinMaxScaler().fit(X_train)\n",
    "\n",
    "X_train_scaled = X_minmax.transform(X_train)\n",
    "X_test_scaled = X_minmax.transform(X_test)"
   ]
  },
  {
   "cell_type": "markdown",
   "id": "98e0ae8c-9e8f-4dc3-bec1-3a6dedbe3999",
   "metadata": {},
   "source": [
    "## Random Forest Classifier Model"
   ]
  },
  {
   "cell_type": "code",
   "execution_count": 22,
   "id": "863b238d-ccf0-4078-82d2-93a5c2b68041",
   "metadata": {},
   "outputs": [
    {
     "data": {
      "text/plain": [
       "RandomForestClassifier(n_estimators=200)"
      ]
     },
     "execution_count": 22,
     "metadata": {},
     "output_type": "execute_result"
    }
   ],
   "source": [
    "# We train our model.\n",
    "# n_estimatoirs refers to the number of trees in the forest.\n",
    "\n",
    "random_Tree_Model = RandomForestClassifier(n_estimators=200)\n",
    "random_Tree_Model"
   ]
  },
  {
   "cell_type": "code",
   "execution_count": 23,
   "id": "289aa602-dd6a-4350-90e3-9b2383a3472e",
   "metadata": {},
   "outputs": [
    {
     "data": {
      "text/plain": [
       "RandomForestClassifier(n_estimators=200)"
      ]
     },
     "execution_count": 23,
     "metadata": {},
     "output_type": "execute_result"
    }
   ],
   "source": [
    "random_Tree_Model.fit(X_train_scaled, y_train.flatten())"
   ]
  },
  {
   "cell_type": "code",
   "execution_count": 24,
   "id": "0300b9bb-dce5-4a1b-b7bb-56afe7a8b9f1",
   "metadata": {},
   "outputs": [
    {
     "name": "stdout",
     "output_type": "stream",
     "text": [
      "Training Data Score: 1.0\n",
      "Testing Data Score: 0.999592708069998\n"
     ]
    }
   ],
   "source": [
    "print(f\"Training Data Score: {random_Tree_Model.score(X_train_scaled, y_train)}\")\n",
    "print(f\"Testing Data Score: {random_Tree_Model.score(X_test_scaled, y_test)}\")"
   ]
  },
  {
   "cell_type": "code",
   "execution_count": 25,
   "id": "71d3c4a5-989d-423e-a641-ce6d55a655e2",
   "metadata": {},
   "outputs": [],
   "source": [
    "# Our model makes predictions.\n",
    "\n",
    "random_Tree_Pred = random_Tree_Model.predict(X_test_scaled)"
   ]
  },
  {
   "cell_type": "code",
   "execution_count": 26,
   "id": "d1b2fbdc-6c36-4f6f-8a20-97529db27611",
   "metadata": {},
   "outputs": [],
   "source": [
    "random_Tree_Pred_Proba = random_Tree_Model.predict_proba(X_test_scaled)[:,1]"
   ]
  },
  {
   "cell_type": "code",
   "execution_count": 28,
   "id": "a0219fd8-ef34-4fb5-b245-15ff7d7ba1e6",
   "metadata": {},
   "outputs": [
    {
     "name": "stdout",
     "output_type": "stream",
     "text": [
      "Random Forest Classifier\n",
      "========================\n",
      "Accuracy:  0.999592708069998\n",
      "Precision:  0.9375\n",
      "Recall:  0.7964601769911505\n",
      "F1-Score:  0.861244019138756\n",
      "AUC score:  0.8981878878738194\n",
      "                precision    recall  f1-score   support\n",
      "\n",
      "Non Fraudulent       1.00      1.00      1.00     71089\n",
      "    Fraudulent       0.94      0.80      0.86       113\n",
      "\n",
      "      accuracy                           1.00     71202\n",
      "     macro avg       0.97      0.90      0.93     71202\n",
      "  weighted avg       1.00      1.00      1.00     71202\n",
      "\n"
     ]
    },
    {
     "data": {
      "image/png": "[encoded data removed]",
      "text/plain": [
       "<Figure size 432x288 with 1 Axes>"
      ]
     },
     "metadata": {
      "needs_background": "light"
     },
     "output_type": "display_data"
    },
    {
     "data": {
      "image/png": "[encoded data removed]",
      "text/plain": [
       "<Figure size 432x432 with 2 Axes>"
      ]
     },
     "metadata": {
      "needs_background": "light"
     },
     "output_type": "display_data"
    }
   ],
   "source": [
    "print(\"Random Forest Classifier\")\n",
    "print(\"========================\")\n",
    "print(\"Accuracy: \",accuracy_score(y_test.flatten(), random_Tree_Pred)) \n",
    "print(\"Precision: \",precision_score(y_test.flatten(), random_Tree_Pred))\n",
    "print(\"Recall: \",recall_score(y_test.flatten(), random_Tree_Pred))\n",
    "print(\"F1-Score: \",f1_score(y_test.flatten(), random_Tree_Pred))\n",
    "print(\"AUC score: \",roc_auc_score(y_test.flatten(), random_Tree_Pred))\n",
    "print(classification_report(y_test.flatten(), random_Tree_Pred,\n",
    "                            target_names=[\"Non Fraudulent\", \"Fraudulent\"]))\n",
    "p, r, t = precision_recall_curve(y_test.flatten(), random_Tree_Pred_Proba)\n",
    "plt.plot(p, r)\n",
    "plt.xlabel('Recall')\n",
    "plt.ylabel('Precision')\n",
    "plt.title('Precision Recall Curve - Random Forest Classifier')\n",
    "confusion_Matrix = confusion_matrix(y_test.flatten(), random_Tree_Pred) \n",
    "plt.figure(figsize =(6, 6)) \n",
    "sns.heatmap(confusion_Matrix, xticklabels = ['Non Fraudulent', 'Fraudulent'],  \n",
    "            yticklabels = ['Non Fraudulent', 'Fraudulent'], annot = True, fmt =\"d\"); \n",
    "plt.title(\"Confusion matrix - Random Forest Classifier\") \n",
    "plt.ylabel('Actual Class') \n",
    "plt.xlabel('Predicted class') \n",
    "plt.show()"
   ]
  },
  {
   "cell_type": "markdown",
   "id": "9fb77309-f5de-4601-af72-951abf10de93",
   "metadata": {},
   "source": [
    "## Hyperparameter Tuning"
   ]
  },
  {
   "cell_type": "code",
   "execution_count": 29,
   "id": "ca8aed61-279d-49fb-a937-40f382a7db22",
   "metadata": {},
   "outputs": [
    {
     "data": {
      "text/plain": [
       "dict_keys(['bootstrap', 'ccp_alpha', 'class_weight', 'criterion', 'max_depth', 'max_features', 'max_leaf_nodes', 'max_samples', 'min_impurity_decrease', 'min_samples_leaf', 'min_samples_split', 'min_weight_fraction_leaf', 'n_estimators', 'n_jobs', 'oob_score', 'random_state', 'verbose', 'warm_start'])"
      ]
     },
     "execution_count": 29,
     "metadata": {},
     "output_type": "execute_result"
    }
   ],
   "source": [
    "# We use GridSearch Cross Validation to tune our model's parameters.\n",
    "\n",
    "random_Tree_Model.get_params().keys()"
   ]
  },
  {
   "cell_type": "code",
   "execution_count": 31,
   "id": "983fa7ac-5ba7-4b71-9fa3-edc065e3f08b",
   "metadata": {},
   "outputs": [],
   "source": [
    "# Create the GridSearchCV model.\n",
    "# Create the GridSearch estimator along with a parameter object containing the values to adjust.\n",
    "\n",
    "random_Tree_Param_Grid = {'n_estimators': [100, 200],\n",
    "                       'criterion': ['gini','entropy'],\n",
    "                       'max_features': ['auto','sqrt','log2',None],\n",
    "                      }\n",
    "random_Tree_Grid = GridSearchCV(random_Tree_Model, random_Tree_Param_Grid, verbose=3)"
   ]
  },
  {
   "cell_type": "code",
   "execution_count": 32,
   "id": "23c5f439-fb71-407f-8005-3aa0922213a8",
   "metadata": {
    "tags": []
   },
   "outputs": [
    {
     "name": "stdout",
     "output_type": "stream",
     "text": [
      "Fitting 5 folds for each of 16 candidates, totalling 80 fits\n",
      "[CV 1/5] END criterion=gini, max_features=auto, n_estimators=100;, score=1.000 total time= 2.0min\n",
      "[CV 2/5] END criterion=gini, max_features=auto, n_estimators=100;, score=0.999 total time= 1.8min\n",
      "[CV 3/5] END criterion=gini, max_features=auto, n_estimators=100;, score=0.999 total time= 1.9min\n",
      "[CV 4/5] END criterion=gini, max_features=auto, n_estimators=100;, score=1.000 total time= 2.0min\n",
      "[CV 5/5] END criterion=gini, max_features=auto, n_estimators=100;, score=1.000 total time= 1.9min\n",
      "[CV 1/5] END criterion=gini, max_features=auto, n_estimators=200;, score=1.000 total time= 4.2min\n",
      "[CV 2/5] END criterion=gini, max_features=auto, n_estimators=200;, score=0.999 total time= 3.9min\n",
      "[CV 3/5] END criterion=gini, max_features=auto, n_estimators=200;, score=0.999 total time= 4.0min\n",
      "[CV 4/5] END criterion=gini, max_features=auto, n_estimators=200;, score=1.000 total time= 4.4min\n",
      "[CV 5/5] END criterion=gini, max_features=auto, n_estimators=200;, score=1.000 total time= 4.1min\n",
      "[CV 1/5] END criterion=gini, max_features=sqrt, n_estimators=100;, score=1.000 total time= 1.9min\n",
      "[CV 2/5] END criterion=gini, max_features=sqrt, n_estimators=100;, score=0.999 total time= 1.8min\n",
      "[CV 3/5] END criterion=gini, max_features=sqrt, n_estimators=100;, score=0.999 total time= 1.8min\n",
      "[CV 4/5] END criterion=gini, max_features=sqrt, n_estimators=100;, score=1.000 total time= 1.9min\n",
      "[CV 5/5] END criterion=gini, max_features=sqrt, n_estimators=100;, score=1.000 total time= 1.9min\n",
      "[CV 1/5] END criterion=gini, max_features=sqrt, n_estimators=200;, score=1.000 total time= 3.9min\n",
      "[CV 2/5] END criterion=gini, max_features=sqrt, n_estimators=200;, score=0.999 total time= 4.1min\n",
      "[CV 3/5] END criterion=gini, max_features=sqrt, n_estimators=200;, score=0.999 total time= 4.1min\n",
      "[CV 4/5] END criterion=gini, max_features=sqrt, n_estimators=200;, score=1.000 total time= 4.4min\n",
      "[CV 5/5] END criterion=gini, max_features=sqrt, n_estimators=200;, score=1.000 total time= 4.3min\n",
      "[CV 1/5] END criterion=gini, max_features=log2, n_estimators=100;, score=1.000 total time= 1.8min\n",
      "[CV 2/5] END criterion=gini, max_features=log2, n_estimators=100;, score=0.999 total time= 1.6min\n",
      "[CV 3/5] END criterion=gini, max_features=log2, n_estimators=100;, score=0.999 total time= 1.7min\n",
      "[CV 4/5] END criterion=gini, max_features=log2, n_estimators=100;, score=1.000 total time= 1.7min\n",
      "[CV 5/5] END criterion=gini, max_features=log2, n_estimators=100;, score=1.000 total time= 1.5min\n",
      "[CV 1/5] END criterion=gini, max_features=log2, n_estimators=200;, score=1.000 total time= 3.2min\n",
      "[CV 2/5] END criterion=gini, max_features=log2, n_estimators=200;, score=0.999 total time= 2.9min\n",
      "[CV 3/5] END criterion=gini, max_features=log2, n_estimators=200;, score=0.999 total time= 3.1min\n",
      "[CV 4/5] END criterion=gini, max_features=log2, n_estimators=200;, score=1.000 total time= 3.2min\n",
      "[CV 5/5] END criterion=gini, max_features=log2, n_estimators=200;, score=1.000 total time= 3.3min\n",
      "[CV 1/5] END criterion=gini, max_features=None, n_estimators=100;, score=1.000 total time=12.9min\n",
      "[CV 2/5] END criterion=gini, max_features=None, n_estimators=100;, score=0.999 total time=11.2min\n",
      "[CV 3/5] END criterion=gini, max_features=None, n_estimators=100;, score=0.999 total time=10.6min\n",
      "[CV 4/5] END criterion=gini, max_features=None, n_estimators=100;, score=0.999 total time=12.4min\n",
      "[CV 5/5] END criterion=gini, max_features=None, n_estimators=100;, score=1.000 total time=10.7min\n",
      "[CV 1/5] END criterion=gini, max_features=None, n_estimators=200;, score=1.000 total time=24.9min\n",
      "[CV 2/5] END criterion=gini, max_features=None, n_estimators=200;, score=1.000 total time=22.7min\n",
      "[CV 3/5] END criterion=gini, max_features=None, n_estimators=200;, score=0.999 total time=21.6min\n",
      "[CV 4/5] END criterion=gini, max_features=None, n_estimators=200;, score=1.000 total time=25.6min\n",
      "[CV 5/5] END criterion=gini, max_features=None, n_estimators=200;, score=1.000 total time=23.0min\n",
      "[CV 1/5] END criterion=entropy, max_features=auto, n_estimators=100;, score=1.000 total time= 1.6min\n",
      "[CV 2/5] END criterion=entropy, max_features=auto, n_estimators=100;, score=0.999 total time= 1.6min\n",
      "[CV 3/5] END criterion=entropy, max_features=auto, n_estimators=100;, score=1.000 total time= 1.5min\n",
      "[CV 4/5] END criterion=entropy, max_features=auto, n_estimators=100;, score=1.000 total time= 1.7min\n",
      "[CV 5/5] END criterion=entropy, max_features=auto, n_estimators=100;, score=1.000 total time= 1.6min\n",
      "[CV 1/5] END criterion=entropy, max_features=auto, n_estimators=200;, score=1.000 total time= 3.4min\n",
      "[CV 2/5] END criterion=entropy, max_features=auto, n_estimators=200;, score=0.999 total time= 3.1min\n",
      "[CV 3/5] END criterion=entropy, max_features=auto, n_estimators=200;, score=1.000 total time= 3.1min\n",
      "[CV 4/5] END criterion=entropy, max_features=auto, n_estimators=200;, score=1.000 total time= 3.2min\n",
      "[CV 5/5] END criterion=entropy, max_features=auto, n_estimators=200;, score=1.000 total time= 3.0min\n",
      "[CV 1/5] END criterion=entropy, max_features=sqrt, n_estimators=100;, score=1.000 total time= 1.6min\n",
      "[CV 2/5] END criterion=entropy, max_features=sqrt, n_estimators=100;, score=0.999 total time= 1.6min\n",
      "[CV 3/5] END criterion=entropy, max_features=sqrt, n_estimators=100;, score=0.999 total time= 1.5min\n",
      "[CV 4/5] END criterion=entropy, max_features=sqrt, n_estimators=100;, score=1.000 total time= 1.6min\n",
      "[CV 5/5] END criterion=entropy, max_features=sqrt, n_estimators=100;, score=1.000 total time= 1.6min\n",
      "[CV 1/5] END criterion=entropy, max_features=sqrt, n_estimators=200;, score=1.000 total time= 3.3min\n",
      "[CV 2/5] END criterion=entropy, max_features=sqrt, n_estimators=200;, score=0.999 total time= 3.1min\n",
      "[CV 3/5] END criterion=entropy, max_features=sqrt, n_estimators=200;, score=0.999 total time= 3.1min\n",
      "[CV 4/5] END criterion=entropy, max_features=sqrt, n_estimators=200;, score=1.000 total time= 3.2min\n",
      "[CV 5/5] END criterion=entropy, max_features=sqrt, n_estimators=200;, score=1.000 total time= 3.1min\n",
      "[CV 1/5] END criterion=entropy, max_features=log2, n_estimators=100;, score=1.000 total time= 1.3min\n",
      "[CV 2/5] END criterion=entropy, max_features=log2, n_estimators=100;, score=0.999 total time= 1.3min\n",
      "[CV 3/5] END criterion=entropy, max_features=log2, n_estimators=100;, score=0.999 total time= 1.1min\n",
      "[CV 4/5] END criterion=entropy, max_features=log2, n_estimators=100;, score=1.000 total time= 1.3min\n",
      "[CV 5/5] END criterion=entropy, max_features=log2, n_estimators=100;, score=1.000 total time= 1.2min\n",
      "[CV 1/5] END criterion=entropy, max_features=log2, n_estimators=200;, score=1.000 total time= 2.5min\n",
      "[CV 2/5] END criterion=entropy, max_features=log2, n_estimators=200;, score=0.999 total time= 2.3min\n",
      "[CV 3/5] END criterion=entropy, max_features=log2, n_estimators=200;, score=0.999 total time= 2.2min\n",
      "[CV 4/5] END criterion=entropy, max_features=log2, n_estimators=200;, score=1.000 total time= 2.6min\n",
      "[CV 5/5] END criterion=entropy, max_features=log2, n_estimators=200;, score=1.000 total time= 2.5min\n",
      "[CV 1/5] END criterion=entropy, max_features=None, n_estimators=100;, score=1.000 total time= 7.9min\n",
      "[CV 2/5] END criterion=entropy, max_features=None, n_estimators=100;, score=0.999 total time= 7.1min\n",
      "[CV 3/5] END criterion=entropy, max_features=None, n_estimators=100;, score=1.000 total time= 7.2min\n",
      "[CV 4/5] END criterion=entropy, max_features=None, n_estimators=100;, score=1.000 total time= 7.5min\n",
      "[CV 5/5] END criterion=entropy, max_features=None, n_estimators=100;, score=1.000 total time= 8.3min\n",
      "[CV 1/5] END criterion=entropy, max_features=None, n_estimators=200;, score=1.000 total time=75.4min\n",
      "[CV 2/5] END criterion=entropy, max_features=None, n_estimators=200;, score=0.999 total time=14.4min\n",
      "[CV 3/5] END criterion=entropy, max_features=None, n_estimators=200;, score=1.000 total time=13.6min\n",
      "[CV 4/5] END criterion=entropy, max_features=None, n_estimators=200;, score=1.000 total time=13.6min\n",
      "[CV 5/5] END criterion=entropy, max_features=None, n_estimators=200;, score=1.000 total time=13.3min\n"
     ]
    },
    {
     "data": {
      "text/plain": [
       "GridSearchCV(estimator=RandomForestClassifier(n_estimators=200),\n",
       "             param_grid={'criterion': ['gini', 'entropy'],\n",
       "                         'max_features': ['auto', 'sqrt', 'log2', None],\n",
       "                         'n_estimators': [100, 200]},\n",
       "             verbose=3)"
      ]
     },
     "execution_count": 32,
     "metadata": {},
     "output_type": "execute_result"
    }
   ],
   "source": [
    "# Train the model with GridSearch.\n",
    "\n",
    "random_Tree_Grid.fit(X_train_scaled, y_train.flatten())"
   ]
  },
  {
   "cell_type": "code",
   "execution_count": 33,
   "id": "e3178d39-ebe5-4e43-b4dd-398d069a7b0f",
   "metadata": {},
   "outputs": [
    {
     "name": "stdout",
     "output_type": "stream",
     "text": [
      "{'criterion': 'entropy', 'max_features': 'auto', 'n_estimators': 100}\n",
      "0.9995505723180637\n"
     ]
    }
   ],
   "source": [
    "print(random_Tree_Grid.best_params_)\n",
    "print(random_Tree_Grid.best_score_)"
   ]
  },
  {
   "cell_type": "code",
   "execution_count": 34,
   "id": "97d2d372-42fe-41d9-96a4-d4c789c280dd",
   "metadata": {},
   "outputs": [],
   "source": [
    "# Making predictions using the hyperparameter tuned model.\n",
    "\n",
    "random_Tree_Grid_Pred = random_Tree_Grid.predict(X_test_scaled)\n",
    "random_Tree_Grid_Pred_Proba = random_Tree_Grid.predict_proba(X_test_scaled)[:,1]"
   ]
  },
  {
   "cell_type": "code",
   "execution_count": 35,
   "id": "7a8e6029-07da-47ae-9974-3598f7b5250f",
   "metadata": {},
   "outputs": [
    {
     "name": "stdout",
     "output_type": "stream",
     "text": [
      "                precision    recall  f1-score   support\n",
      "\n",
      "Non Fraudulent       1.00      1.00      1.00     71089\n",
      "    Fraudulent       0.95      0.77      0.85       113\n",
      "\n",
      "      accuracy                           1.00     71202\n",
      "     macro avg       0.97      0.88      0.92     71202\n",
      "  weighted avg       1.00      1.00      1.00     71202\n",
      "\n"
     ]
    }
   ],
   "source": [
    "# Print classification report:\n",
    "\n",
    "print(classification_report(y_test.flatten(), random_Tree_Grid_Pred,\n",
    "                            target_names=[\"Non Fraudulent\", \"Fraudulent\"]))"
   ]
  },
  {
   "cell_type": "code",
   "execution_count": 36,
   "id": "e9725922-72ca-41ce-aea1-34e9886cb580",
   "metadata": {},
   "outputs": [
    {
     "name": "stdout",
     "output_type": "stream",
     "text": [
      "Random Forest Classifier\n",
      "========================\n",
      "Accuracy:  0.9995646189713772\n",
      "Precision:  0.9456521739130435\n",
      "Recall:  0.7699115044247787\n",
      "F1-Score:  0.848780487804878\n",
      "AUC score:  0.8849205850275929\n",
      "                precision    recall  f1-score   support\n",
      "\n",
      "Non Fraudulent       1.00      1.00      1.00     71089\n",
      "    Fraudulent       0.95      0.77      0.85       113\n",
      "\n",
      "      accuracy                           1.00     71202\n",
      "     macro avg       0.97      0.88      0.92     71202\n",
      "  weighted avg       1.00      1.00      1.00     71202\n",
      "\n"
     ]
    },
    {
     "data": {
      "image/png": "[encoded data removed]",
      "text/plain": [
       "<Figure size 432x288 with 1 Axes>"
      ]
     },
     "metadata": {
      "needs_background": "light"
     },
     "output_type": "display_data"
    },
    {
     "data": {
      "image/png": "[encoded data removed]",
      "text/plain": [
       "<Figure size 432x432 with 2 Axes>"
      ]
     },
     "metadata": {
      "needs_background": "light"
     },
     "output_type": "display_data"
    }
   ],
   "source": [
    "print(\"Random Forest Classifier\")\n",
    "print(\"========================\")\n",
    "print(\"Accuracy: \",accuracy_score(y_test.flatten(), random_Tree_Grid_Pred)) \n",
    "print(\"Precision: \",precision_score(y_test.flatten(), random_Tree_Grid_Pred))\n",
    "print(\"Recall: \",recall_score(y_test.flatten(), random_Tree_Grid_Pred))\n",
    "print(\"F1-Score: \",f1_score(y_test.flatten(), random_Tree_Grid_Pred))\n",
    "print(\"AUC score: \",roc_auc_score(y_test.flatten(), random_Tree_Grid_Pred))\n",
    "print(classification_report(y_test.flatten(), random_Tree_Grid_Pred,\n",
    "                            target_names=[\"Non Fraudulent\", \"Fraudulent\"]))\n",
    "p, r, t = precision_recall_curve(y_test.flatten(), random_Tree_Grid_Pred_Proba)\n",
    "plt.plot(p, r)\n",
    "plt.xlabel('Recall')\n",
    "plt.ylabel('Precision')\n",
    "plt.title('Precision Recall Curve - Random Forest Classifier')\n",
    "confusion_Matrix = confusion_matrix(y_test.flatten(), random_Tree_Grid_Pred) \n",
    "plt.figure(figsize =(6, 6)) \n",
    "sns.heatmap(confusion_Matrix, xticklabels = ['Non Fraudulent', 'Fraudulent'],  \n",
    "            yticklabels = ['Non Fraudulent', 'Fraudulent'], annot = True, fmt =\"d\"); \n",
    "plt.title(\"Confusion matrix - Random Forest Classifier\") \n",
    "plt.ylabel('Actual Class') \n",
    "plt.xlabel('Predicted class') \n",
    "plt.show()"
   ]
  },
  {
   "cell_type": "markdown",
   "id": "efe0d292-75d9-44a3-8973-24ec4bc02ce3",
   "metadata": {},
   "source": [
    "## Feature Selection"
   ]
  },
  {
   "cell_type": "code",
   "execution_count": 37,
   "id": "08d94543-f431-443c-8843-b05c93a8d78e",
   "metadata": {},
   "outputs": [
    {
     "data": {
      "text/plain": [
       "[(0.17924556811391085, 'V17'),\n",
       " (0.13653486444770005, 'V14'),\n",
       " (0.12517864551555669, 'V12'),\n",
       " (0.0725443543111234, 'V11'),\n",
       " (0.06804145561477334, 'V10'),\n",
       " (0.06214257459306731, 'V16'),\n",
       " (0.03305174690101077, 'V9'),\n",
       " (0.03175134964783432, 'V7'),\n",
       " (0.031116801086375944, 'V18'),\n",
       " (0.027437530082555128, 'V4'),\n",
       " (0.016546387788898772, 'V26'),\n",
       " (0.016501331544042444, 'V3'),\n",
       " (0.014586916986787029, 'V21'),\n",
       " (0.013831116231356813, 'V1'),\n",
       " (0.0134628974942145, 'V27'),\n",
       " (0.01345495591186902, 'V20'),\n",
       " (0.012873904329007856, 'V5'),\n",
       " (0.012552003129726987, 'V19'),\n",
       " (0.01199127071670047, 'V15'),\n",
       " (0.011277764615149838, 'V6'),\n",
       " (0.010990355274739932, 'Time'),\n",
       " (0.010579655034818107, 'V2'),\n",
       " (0.010548580046380512, 'V13'),\n",
       " (0.01049985106736936, 'Amount'),\n",
       " (0.0094516860764531, 'V24'),\n",
       " (0.009252024253953845, 'V8'),\n",
       " (0.009214451035701843, 'V25'),\n",
       " (0.00919410655659388, 'V22'),\n",
       " (0.008763355159093471, 'V28'),\n",
       " (0.0073824964332345495, 'V23')]"
      ]
     },
     "execution_count": 37,
     "metadata": {},
     "output_type": "execute_result"
    }
   ],
   "source": [
    "feature_names = selected_features.columns\n",
    "sorted(zip(random_Tree_Model.feature_importances_, feature_names), reverse=True)"
   ]
  },
  {
   "cell_type": "markdown",
   "id": "6cfe1462-f1f4-454a-8466-695508b66e97",
   "metadata": {},
   "source": [
    "## Choosing Top features"
   ]
  },
  {
   "cell_type": "code",
   "execution_count": 38,
   "id": "25956760-c258-4388-8f44-b615ca638bc8",
   "metadata": {},
   "outputs": [
    {
     "data": {
      "text/html": [
       "<div>\n",
       "<style scoped>\n",
       "    .dataframe tbody tr th:only-of-type {\n",
       "        vertical-align: middle;\n",
       "    }\n",
       "\n",
       "    .dataframe tbody tr th {\n",
       "        vertical-align: top;\n",
       "    }\n",
       "\n",
       "    .dataframe thead th {\n",
       "        text-align: right;\n",
       "    }\n",
       "</style>\n",
       "<table border=\"1\" class=\"dataframe\">\n",
       "  <thead>\n",
       "    <tr style=\"text-align: right;\">\n",
       "      <th></th>\n",
       "      <th>V17</th>\n",
       "      <th>V14</th>\n",
       "      <th>V12</th>\n",
       "      <th>V10</th>\n",
       "      <th>V11</th>\n",
       "      <th>V16</th>\n",
       "      <th>V9</th>\n",
       "    </tr>\n",
       "  </thead>\n",
       "  <tbody>\n",
       "    <tr>\n",
       "      <th>0</th>\n",
       "      <td>0.207971</td>\n",
       "      <td>-0.311169</td>\n",
       "      <td>-0.617801</td>\n",
       "      <td>0.090794</td>\n",
       "      <td>-0.5516</td>\n",
       "      <td>-0.470401</td>\n",
       "      <td>0.363787</td>\n",
       "    </tr>\n",
       "  </tbody>\n",
       "</table>\n",
       "</div>"
      ],
      "text/plain": [
       "        V17       V14       V12       V10     V11       V16        V9\n",
       "0  0.207971 -0.311169 -0.617801  0.090794 -0.5516 -0.470401  0.363787"
      ]
     },
     "execution_count": 38,
     "metadata": {},
     "output_type": "execute_result"
    }
   ],
   "source": [
    "# Set top features. This will be used as x values (features).\n",
    "\n",
    "top_features = df[[ \n",
    "'V17',\n",
    "'V14',\n",
    "'V12',\n",
    "'V10',\n",
    "'V11',\n",
    "'V16',\n",
    "'V9',\n",
    "]]\n",
    "\n",
    "top_features.head(1)"
   ]
  },
  {
   "cell_type": "markdown",
   "id": "4d3b4661-5c93-4dbb-8d3d-726db7c21dd9",
   "metadata": {},
   "source": [
    "## Create a Train Test Split"
   ]
  },
  {
   "cell_type": "code",
   "execution_count": 39,
   "id": "92608e65-e26d-4194-a853-3ca8f4d57727",
   "metadata": {},
   "outputs": [
    {
     "name": "stdout",
     "output_type": "stream",
     "text": [
      "Shape:  (284807, 7) (284807, 1)\n"
     ]
    }
   ],
   "source": [
    "# We use Class for the y values.\n",
    "# Assign the data to X and y.\n",
    "# Note: Sklearn requires a two-dimensional array of values.\n",
    "# We use reshape to create this.\n",
    "\n",
    "top_X = top_features\n",
    "top_y = df[['Class']].values.reshape(-1, 1)\n",
    "\n",
    "print(\"Shape: \", top_X.shape, top_y.shape)"
   ]
  },
  {
   "cell_type": "markdown",
   "id": "77c54dc9-2469-493c-99d9-8c2acbaa11e0",
   "metadata": {},
   "source": [
    "## Pre-processing"
   ]
  },
  {
   "cell_type": "code",
   "execution_count": 42,
   "id": "3b7cbf34-d6e5-4d05-b797-c76b12f457ec",
   "metadata": {},
   "outputs": [],
   "source": [
    "top_X_train, top_X_test, top_y_train, top_y_test = train_test_split(top_X, top_y, test_size = 0.25, random_state = 42)"
   ]
  },
  {
   "cell_type": "code",
   "execution_count": 43,
   "id": "bac4cd98-6030-45d2-afaa-c00957971937",
   "metadata": {},
   "outputs": [],
   "source": [
    "# We scale the data using the MinMaxScaler.\n",
    "\n",
    "top_X_minmax = MinMaxScaler().fit(top_X_train)\n",
    "\n",
    "top_X_train_scaled = top_X_minmax.transform(top_X_train)\n",
    "top_X_test_scaled = top_X_minmax.transform(top_X_test)"
   ]
  },
  {
   "cell_type": "code",
   "execution_count": 44,
   "id": "64a883a8-6d6e-4e8f-8ace-db8295aa2a17",
   "metadata": {},
   "outputs": [],
   "source": [
    "X_scaler = MinMaxScaler().fit(X_train)\n",
    "\n",
    "X_train_scaler = X_scaler.transform(X_train)\n",
    "X_test_scaler = X_scaler.transform(X_test)"
   ]
  },
  {
   "cell_type": "markdown",
   "id": "92c6ec72-8c73-4740-869f-0e0c82c8b016",
   "metadata": {},
   "source": [
    "## Random Forest Model with Top features"
   ]
  },
  {
   "cell_type": "code",
   "execution_count": 45,
   "id": "63c5f60b-589a-4b9f-bbc3-1438cda13f93",
   "metadata": {},
   "outputs": [
    {
     "data": {
      "text/plain": [
       "RandomForestClassifier()"
      ]
     },
     "execution_count": 45,
     "metadata": {},
     "output_type": "execute_result"
    }
   ],
   "source": [
    "# We train our model.\n",
    "\n",
    "top_random_Tree_Model = RandomForestClassifier()\n",
    "top_random_Tree_Model"
   ]
  },
  {
   "cell_type": "code",
   "execution_count": 46,
   "id": "3382f8af-cbbd-4dc4-b591-a0447505b292",
   "metadata": {},
   "outputs": [
    {
     "data": {
      "text/plain": [
       "RandomForestClassifier()"
      ]
     },
     "execution_count": 46,
     "metadata": {},
     "output_type": "execute_result"
    }
   ],
   "source": [
    "top_random_Tree_Model.fit(top_X_train_scaled, top_y_train.flatten())"
   ]
  },
  {
   "cell_type": "code",
   "execution_count": 47,
   "id": "3cd66db2-2e73-43d3-9ec9-3ca2855ef47d",
   "metadata": {},
   "outputs": [],
   "source": [
    "# Our model makes prediction.\n",
    "\n",
    "top_random_Tree_Pred = top_random_Tree_Model.predict(top_X_test_scaled)"
   ]
  },
  {
   "cell_type": "code",
   "execution_count": 48,
   "id": "d04082c3-4c44-4d4c-abc5-c8a1304d0acc",
   "metadata": {},
   "outputs": [],
   "source": [
    "top_random_Tree_Pred_Proba = top_random_Tree_Model.predict_proba(top_X_test_scaled)[:,1]"
   ]
  },
  {
   "cell_type": "code",
   "execution_count": 49,
   "id": "e89ff180-35b6-4ed6-96d1-e8944f382b06",
   "metadata": {},
   "outputs": [
    {
     "name": "stdout",
     "output_type": "stream",
     "text": [
      "                precision    recall  f1-score   support\n",
      "\n",
      "Non Fraudulent       1.00      1.00      1.00     71089\n",
      "    Fraudulent       0.94      0.77      0.84       113\n",
      "\n",
      "      accuracy                           1.00     71202\n",
      "     macro avg       0.97      0.88      0.92     71202\n",
      "  weighted avg       1.00      1.00      1.00     71202\n",
      "\n",
      "Accuracy: 0.9995505744220669\n"
     ]
    }
   ],
   "source": [
    "print(classification_report(top_y_test.flatten(), top_random_Tree_Pred,\n",
    "                            target_names=[\"Non Fraudulent\", \"Fraudulent\"]))\n",
    "print(\"Accuracy:\", accuracy_score(top_y_test.flatten(), top_random_Tree_Pred))"
   ]
  },
  {
   "cell_type": "code",
   "execution_count": 50,
   "id": "29f15ded-cd6e-42bc-969c-f06586ba283a",
   "metadata": {},
   "outputs": [
    {
     "name": "stdout",
     "output_type": "stream",
     "text": [
      "Random Forest Classifier\n",
      "========================\n",
      "Accuracy:  0.9995505744220669\n",
      "Precision:  0.9354838709677419\n",
      "Recall:  0.7699115044247787\n",
      "F1-Score:  0.8446601941747574\n",
      "AUC score:  0.8849135515906336\n",
      "                precision    recall  f1-score   support\n",
      "\n",
      "Non Fraudulent       1.00      1.00      1.00     71089\n",
      "    Fraudulent       0.94      0.77      0.84       113\n",
      "\n",
      "      accuracy                           1.00     71202\n",
      "     macro avg       0.97      0.88      0.92     71202\n",
      "  weighted avg       1.00      1.00      1.00     71202\n",
      "\n"
     ]
    },
    {
     "data": {
      "image/png": "[encoded data removed]",
      "text/plain": [
       "<Figure size 432x288 with 1 Axes>"
      ]
     },
     "metadata": {
      "needs_background": "light"
     },
     "output_type": "display_data"
    },
    {
     "data": {
      "image/png": "[encoded data removed]",
      "text/plain": [
       "<Figure size 432x432 with 2 Axes>"
      ]
     },
     "metadata": {
      "needs_background": "light"
     },
     "output_type": "display_data"
    }
   ],
   "source": [
    "print(\"Random Forest Classifier\")\n",
    "print(\"========================\")\n",
    "print(\"Accuracy: \",accuracy_score(y_test.flatten(), top_random_Tree_Pred)) \n",
    "print(\"Precision: \",precision_score(y_test.flatten(), top_random_Tree_Pred))\n",
    "print(\"Recall: \",recall_score(y_test.flatten(), top_random_Tree_Pred))\n",
    "print(\"F1-Score: \",f1_score(y_test.flatten(), top_random_Tree_Pred))\n",
    "print(\"AUC score: \",roc_auc_score(y_test.flatten(), top_random_Tree_Pred))\n",
    "print(classification_report(y_test.flatten(), top_random_Tree_Pred,\n",
    "                            target_names=[\"Non Fraudulent\", \"Fraudulent\"]))\n",
    "\n",
    "p, r, t = precision_recall_curve(y_test.flatten(), top_random_Tree_Pred_Proba)\n",
    "plt.plot(p, r)\n",
    "plt.xlabel('Recall')\n",
    "plt.ylabel('Precision')\n",
    "plt.title('Precision Recall Curve - Random Forest Classifier')\n",
    "\n",
    "confusion_Matrix = confusion_matrix(y_test.flatten(), top_random_Tree_Pred) \n",
    "plt.figure(figsize =(6, 6)) \n",
    "sns.heatmap(confusion_Matrix, xticklabels = ['Non Fraudulent', 'Fraudulent'],  \n",
    "            yticklabels = ['Non Fraudulent', 'Fraudulent'], annot = True, fmt =\"d\"); \n",
    "plt.title(\"Confusion matrix - Random Forest Classifier\") \n",
    "plt.ylabel('Actual Class') \n",
    "plt.xlabel('Predicted class') \n",
    "plt.show()"
   ]
  },
  {
   "cell_type": "markdown",
   "id": "f5eb813f-e829-4a29-a309-11d669b99f19",
   "metadata": {},
   "source": [
    "## Hyperparameter Tuning"
   ]
  },
  {
   "cell_type": "code",
   "execution_count": 51,
   "id": "9c68f4e8-c1bb-43aa-a4df-5c7899bc1eaf",
   "metadata": {},
   "outputs": [
    {
     "data": {
      "text/plain": [
       "dict_keys(['bootstrap', 'ccp_alpha', 'class_weight', 'criterion', 'max_depth', 'max_features', 'max_leaf_nodes', 'max_samples', 'min_impurity_decrease', 'min_samples_leaf', 'min_samples_split', 'min_weight_fraction_leaf', 'n_estimators', 'n_jobs', 'oob_score', 'random_state', 'verbose', 'warm_start'])"
      ]
     },
     "execution_count": 51,
     "metadata": {},
     "output_type": "execute_result"
    }
   ],
   "source": [
    "# We use GridSearchCV to tune our model's parameters.\n",
    "\n",
    "top_random_Tree_Model.get_params().keys()"
   ]
  },
  {
   "cell_type": "code",
   "execution_count": 52,
   "id": "9cc30c32-b446-4ec9-b5b6-e1b3a4562834",
   "metadata": {},
   "outputs": [],
   "source": [
    "# Create the GridSearchCV model.\n",
    "# Create the GridSearch estimator along with a parameter object containing the values to adjust.\n",
    "\n",
    "top_random_Tree_Param_Grid = {'n_estimators': [100, 200],\n",
    "                           'criterion': ['gini','entropy'],\n",
    "                           'class_weight': [\"balanced\",\"balanced_subsample\", None],\n",
    "                           'max_features': ['auto','sqrt','log2',None],\n",
    "                          }\n",
    "top_random_Tree_Grid = GridSearchCV(top_random_Tree_Model, top_random_Tree_Param_Grid, verbose=3)"
   ]
  },
  {
   "cell_type": "code",
   "execution_count": 53,
   "id": "2092ec46-d035-4270-92fc-885ca02e8df7",
   "metadata": {},
   "outputs": [
    {
     "name": "stdout",
     "output_type": "stream",
     "text": [
      "Fitting 5 folds for each of 48 candidates, totalling 240 fits\n",
      "[CV 1/5] END class_weight=balanced, criterion=gini, max_features=auto, n_estimators=100;, score=1.000 total time=  26.2s\n",
      "[CV 2/5] END class_weight=balanced, criterion=gini, max_features=auto, n_estimators=100;, score=0.999 total time=  26.7s\n",
      "[CV 3/5] END class_weight=balanced, criterion=gini, max_features=auto, n_estimators=100;, score=0.999 total time=  25.8s\n",
      "[CV 4/5] END class_weight=balanced, criterion=gini, max_features=auto, n_estimators=100;, score=1.000 total time=  28.6s\n",
      "[CV 5/5] END class_weight=balanced, criterion=gini, max_features=auto, n_estimators=100;, score=0.999 total time=  29.0s\n",
      "[CV 1/5] END class_weight=balanced, criterion=gini, max_features=auto, n_estimators=200;, score=1.000 total time=  56.1s\n",
      "[CV 2/5] END class_weight=balanced, criterion=gini, max_features=auto, n_estimators=200;, score=0.999 total time=  57.8s\n",
      "[CV 3/5] END class_weight=balanced, criterion=gini, max_features=auto, n_estimators=200;, score=0.999 total time=  56.9s\n",
      "[CV 4/5] END class_weight=balanced, criterion=gini, max_features=auto, n_estimators=200;, score=1.000 total time= 1.1min\n",
      "[CV 5/5] END class_weight=balanced, criterion=gini, max_features=auto, n_estimators=200;, score=1.000 total time=  59.8s\n",
      "[CV 1/5] END class_weight=balanced, criterion=gini, max_features=sqrt, n_estimators=100;, score=1.000 total time=  27.0s\n",
      "[CV 2/5] END class_weight=balanced, criterion=gini, max_features=sqrt, n_estimators=100;, score=0.999 total time=  30.9s\n",
      "[CV 3/5] END class_weight=balanced, criterion=gini, max_features=sqrt, n_estimators=100;, score=0.999 total time=  27.7s\n",
      "[CV 4/5] END class_weight=balanced, criterion=gini, max_features=sqrt, n_estimators=100;, score=1.000 total time=  29.3s\n",
      "[CV 5/5] END class_weight=balanced, criterion=gini, max_features=sqrt, n_estimators=100;, score=1.000 total time=  29.8s\n",
      "[CV 1/5] END class_weight=balanced, criterion=gini, max_features=sqrt, n_estimators=200;, score=1.000 total time=  54.7s\n",
      "[CV 2/5] END class_weight=balanced, criterion=gini, max_features=sqrt, n_estimators=200;, score=0.999 total time= 1.0min\n",
      "[CV 3/5] END class_weight=balanced, criterion=gini, max_features=sqrt, n_estimators=200;, score=0.999 total time=  59.1s\n",
      "[CV 4/5] END class_weight=balanced, criterion=gini, max_features=sqrt, n_estimators=200;, score=1.000 total time= 1.0min\n",
      "[CV 5/5] END class_weight=balanced, criterion=gini, max_features=sqrt, n_estimators=200;, score=1.000 total time=  55.4s\n",
      "[CV 1/5] END class_weight=balanced, criterion=gini, max_features=log2, n_estimators=100;, score=1.000 total time=  27.5s\n",
      "[CV 2/5] END class_weight=balanced, criterion=gini, max_features=log2, n_estimators=100;, score=0.999 total time=  27.2s\n",
      "[CV 3/5] END class_weight=balanced, criterion=gini, max_features=log2, n_estimators=100;, score=0.999 total time=  27.2s\n",
      "[CV 4/5] END class_weight=balanced, criterion=gini, max_features=log2, n_estimators=100;, score=1.000 total time=  28.5s\n",
      "[CV 5/5] END class_weight=balanced, criterion=gini, max_features=log2, n_estimators=100;, score=1.000 total time=  28.0s\n",
      "[CV 1/5] END class_weight=balanced, criterion=gini, max_features=log2, n_estimators=200;, score=1.000 total time=  55.4s\n",
      "[CV 2/5] END class_weight=balanced, criterion=gini, max_features=log2, n_estimators=200;, score=0.999 total time= 1.1min\n",
      "[CV 3/5] END class_weight=balanced, criterion=gini, max_features=log2, n_estimators=200;, score=0.999 total time= 1.0min\n",
      "[CV 4/5] END class_weight=balanced, criterion=gini, max_features=log2, n_estimators=200;, score=1.000 total time=  58.6s\n",
      "[CV 5/5] END class_weight=balanced, criterion=gini, max_features=log2, n_estimators=200;, score=1.000 total time=  54.9s\n",
      "[CV 1/5] END class_weight=balanced, criterion=gini, max_features=None, n_estimators=100;, score=1.000 total time= 1.6min\n",
      "[CV 2/5] END class_weight=balanced, criterion=gini, max_features=None, n_estimators=100;, score=0.999 total time= 1.8min\n",
      "[CV 3/5] END class_weight=balanced, criterion=gini, max_features=None, n_estimators=100;, score=0.999 total time= 1.5min\n",
      "[CV 4/5] END class_weight=balanced, criterion=gini, max_features=None, n_estimators=100;, score=0.999 total time= 1.8min\n",
      "[CV 5/5] END class_weight=balanced, criterion=gini, max_features=None, n_estimators=100;, score=1.000 total time= 1.5min\n",
      "[CV 1/5] END class_weight=balanced, criterion=gini, max_features=None, n_estimators=200;, score=1.000 total time= 3.2min\n",
      "[CV 2/5] END class_weight=balanced, criterion=gini, max_features=None, n_estimators=200;, score=1.000 total time= 3.3min\n",
      "[CV 3/5] END class_weight=balanced, criterion=gini, max_features=None, n_estimators=200;, score=0.999 total time= 2.9min\n",
      "[CV 4/5] END class_weight=balanced, criterion=gini, max_features=None, n_estimators=200;, score=1.000 total time= 3.1min\n",
      "[CV 5/5] END class_weight=balanced, criterion=gini, max_features=None, n_estimators=200;, score=1.000 total time= 2.7min\n",
      "[CV 1/5] END class_weight=balanced, criterion=entropy, max_features=auto, n_estimators=100;, score=1.000 total time=  33.4s\n",
      "[CV 2/5] END class_weight=balanced, criterion=entropy, max_features=auto, n_estimators=100;, score=0.999 total time=  33.7s\n",
      "[CV 3/5] END class_weight=balanced, criterion=entropy, max_features=auto, n_estimators=100;, score=0.999 total time=  33.2s\n",
      "[CV 4/5] END class_weight=balanced, criterion=entropy, max_features=auto, n_estimators=100;, score=1.000 total time=  34.8s\n",
      "[CV 5/5] END class_weight=balanced, criterion=entropy, max_features=auto, n_estimators=100;, score=1.000 total time=  33.6s\n",
      "[CV 1/5] END class_weight=balanced, criterion=entropy, max_features=auto, n_estimators=200;, score=1.000 total time= 1.1min\n",
      "[CV 2/5] END class_weight=balanced, criterion=entropy, max_features=auto, n_estimators=200;, score=0.999 total time= 1.1min\n",
      "[CV 3/5] END class_weight=balanced, criterion=entropy, max_features=auto, n_estimators=200;, score=0.999 total time= 1.1min\n",
      "[CV 4/5] END class_weight=balanced, criterion=entropy, max_features=auto, n_estimators=200;, score=1.000 total time= 1.2min\n",
      "[CV 5/5] END class_weight=balanced, criterion=entropy, max_features=auto, n_estimators=200;, score=1.000 total time= 1.1min\n",
      "[CV 1/5] END class_weight=balanced, criterion=entropy, max_features=sqrt, n_estimators=100;, score=1.000 total time=  34.7s\n",
      "[CV 2/5] END class_weight=balanced, criterion=entropy, max_features=sqrt, n_estimators=100;, score=0.999 total time=  34.2s\n",
      "[CV 3/5] END class_weight=balanced, criterion=entropy, max_features=sqrt, n_estimators=100;, score=0.999 total time=  34.2s\n",
      "[CV 4/5] END class_weight=balanced, criterion=entropy, max_features=sqrt, n_estimators=100;, score=1.000 total time=  37.5s\n",
      "[CV 5/5] END class_weight=balanced, criterion=entropy, max_features=sqrt, n_estimators=100;, score=1.000 total time=  34.6s\n",
      "[CV 1/5] END class_weight=balanced, criterion=entropy, max_features=sqrt, n_estimators=200;, score=1.000 total time= 1.2min\n",
      "[CV 2/5] END class_weight=balanced, criterion=entropy, max_features=sqrt, n_estimators=200;, score=0.999 total time= 1.2min\n",
      "[CV 3/5] END class_weight=balanced, criterion=entropy, max_features=sqrt, n_estimators=200;, score=1.000 total time= 1.3min\n",
      "[CV 4/5] END class_weight=balanced, criterion=entropy, max_features=sqrt, n_estimators=200;, score=1.000 total time= 1.3min\n",
      "[CV 5/5] END class_weight=balanced, criterion=entropy, max_features=sqrt, n_estimators=200;, score=1.000 total time= 1.2min\n",
      "[CV 1/5] END class_weight=balanced, criterion=entropy, max_features=log2, n_estimators=100;, score=1.000 total time=  33.5s\n",
      "[CV 2/5] END class_weight=balanced, criterion=entropy, max_features=log2, n_estimators=100;, score=0.999 total time=  39.1s\n",
      "[CV 3/5] END class_weight=balanced, criterion=entropy, max_features=log2, n_estimators=100;, score=0.999 total time=  34.6s\n",
      "[CV 4/5] END class_weight=balanced, criterion=entropy, max_features=log2, n_estimators=100;, score=1.000 total time=  36.1s\n",
      "[CV 5/5] END class_weight=balanced, criterion=entropy, max_features=log2, n_estimators=100;, score=1.000 total time=  32.7s\n",
      "[CV 1/5] END class_weight=balanced, criterion=entropy, max_features=log2, n_estimators=200;, score=1.000 total time= 1.4min\n",
      "[CV 2/5] END class_weight=balanced, criterion=entropy, max_features=log2, n_estimators=200;, score=0.999 total time= 1.2min\n",
      "[CV 3/5] END class_weight=balanced, criterion=entropy, max_features=log2, n_estimators=200;, score=0.999 total time= 1.2min\n",
      "[CV 4/5] END class_weight=balanced, criterion=entropy, max_features=log2, n_estimators=200;, score=1.000 total time= 1.3min\n",
      "[CV 5/5] END class_weight=balanced, criterion=entropy, max_features=log2, n_estimators=200;, score=1.000 total time= 1.2min\n",
      "[CV 1/5] END class_weight=balanced, criterion=entropy, max_features=None, n_estimators=100;, score=1.000 total time= 1.6min\n",
      "[CV 2/5] END class_weight=balanced, criterion=entropy, max_features=None, n_estimators=100;, score=0.999 total time=668.4min\n",
      "[CV 3/5] END class_weight=balanced, criterion=entropy, max_features=None, n_estimators=100;, score=0.999 total time= 1.5min\n",
      "[CV 4/5] END class_weight=balanced, criterion=entropy, max_features=None, n_estimators=100;, score=1.000 total time= 1.6min\n",
      "[CV 5/5] END class_weight=balanced, criterion=entropy, max_features=None, n_estimators=100;, score=1.000 total time= 1.5min\n",
      "[CV 1/5] END class_weight=balanced, criterion=entropy, max_features=None, n_estimators=200;, score=1.000 total time= 3.2min\n",
      "[CV 2/5] END class_weight=balanced, criterion=entropy, max_features=None, n_estimators=200;, score=1.000 total time= 3.2min\n",
      "[CV 3/5] END class_weight=balanced, criterion=entropy, max_features=None, n_estimators=200;, score=0.999 total time= 2.9min\n",
      "[CV 4/5] END class_weight=balanced, criterion=entropy, max_features=None, n_estimators=200;, score=1.000 total time= 3.3min\n",
      "[CV 5/5] END class_weight=balanced, criterion=entropy, max_features=None, n_estimators=200;, score=1.000 total time= 3.2min\n",
      "[CV 1/5] END class_weight=balanced_subsample, criterion=gini, max_features=auto, n_estimators=100;, score=1.000 total time=  33.7s\n",
      "[CV 2/5] END class_weight=balanced_subsample, criterion=gini, max_features=auto, n_estimators=100;, score=0.999 total time=  33.8s\n",
      "[CV 3/5] END class_weight=balanced_subsample, criterion=gini, max_features=auto, n_estimators=100;, score=0.999 total time=  33.0s\n",
      "[CV 4/5] END class_weight=balanced_subsample, criterion=gini, max_features=auto, n_estimators=100;, score=1.000 total time=  36.3s\n",
      "[CV 5/5] END class_weight=balanced_subsample, criterion=gini, max_features=auto, n_estimators=100;, score=1.000 total time=  33.4s\n",
      "[CV 1/5] END class_weight=balanced_subsample, criterion=gini, max_features=auto, n_estimators=200;, score=1.000 total time= 1.1min\n",
      "[CV 2/5] END class_weight=balanced_subsample, criterion=gini, max_features=auto, n_estimators=200;, score=0.999 total time= 1.1min\n",
      "[CV 3/5] END class_weight=balanced_subsample, criterion=gini, max_features=auto, n_estimators=200;, score=0.999 total time= 1.1min\n",
      "[CV 4/5] END class_weight=balanced_subsample, criterion=gini, max_features=auto, n_estimators=200;, score=1.000 total time= 1.2min\n",
      "[CV 5/5] END class_weight=balanced_subsample, criterion=gini, max_features=auto, n_estimators=200;, score=1.000 total time= 1.1min\n",
      "[CV 1/5] END class_weight=balanced_subsample, criterion=gini, max_features=sqrt, n_estimators=100;, score=1.000 total time=  35.3s\n",
      "[CV 2/5] END class_weight=balanced_subsample, criterion=gini, max_features=sqrt, n_estimators=100;, score=0.999 total time=  34.8s\n",
      "[CV 3/5] END class_weight=balanced_subsample, criterion=gini, max_features=sqrt, n_estimators=100;, score=0.999 total time=  33.0s\n",
      "[CV 4/5] END class_weight=balanced_subsample, criterion=gini, max_features=sqrt, n_estimators=100;, score=1.000 total time=  34.9s\n",
      "[CV 5/5] END class_weight=balanced_subsample, criterion=gini, max_features=sqrt, n_estimators=100;, score=1.000 total time=  33.2s\n",
      "[CV 1/5] END class_weight=balanced_subsample, criterion=gini, max_features=sqrt, n_estimators=200;, score=1.000 total time= 1.2min\n",
      "[CV 2/5] END class_weight=balanced_subsample, criterion=gini, max_features=sqrt, n_estimators=200;, score=0.999 total time= 1.1min\n",
      "[CV 3/5] END class_weight=balanced_subsample, criterion=gini, max_features=sqrt, n_estimators=200;, score=0.999 total time= 1.1min\n",
      "[CV 4/5] END class_weight=balanced_subsample, criterion=gini, max_features=sqrt, n_estimators=200;, score=1.000 total time= 1.2min\n",
      "[CV 5/5] END class_weight=balanced_subsample, criterion=gini, max_features=sqrt, n_estimators=200;, score=1.000 total time= 1.1min\n",
      "[CV 1/5] END class_weight=balanced_subsample, criterion=gini, max_features=log2, n_estimators=100;, score=1.000 total time=  34.9s\n",
      "[CV 2/5] END class_weight=balanced_subsample, criterion=gini, max_features=log2, n_estimators=100;, score=0.999 total time=  34.4s\n",
      "[CV 3/5] END class_weight=balanced_subsample, criterion=gini, max_features=log2, n_estimators=100;, score=0.999 total time=  32.5s\n",
      "[CV 4/5] END class_weight=balanced_subsample, criterion=gini, max_features=log2, n_estimators=100;, score=1.000 total time=  36.2s\n",
      "[CV 5/5] END class_weight=balanced_subsample, criterion=gini, max_features=log2, n_estimators=100;, score=0.999 total time=  34.4s\n",
      "[CV 1/5] END class_weight=balanced_subsample, criterion=gini, max_features=log2, n_estimators=200;, score=1.000 total time= 1.0min\n",
      "[CV 2/5] END class_weight=balanced_subsample, criterion=gini, max_features=log2, n_estimators=200;, score=0.999 total time= 1.1min\n",
      "[CV 3/5] END class_weight=balanced_subsample, criterion=gini, max_features=log2, n_estimators=200;, score=0.999 total time= 1.2min\n",
      "[CV 4/5] END class_weight=balanced_subsample, criterion=gini, max_features=log2, n_estimators=200;, score=1.000 total time= 1.2min\n",
      "[CV 5/5] END class_weight=balanced_subsample, criterion=gini, max_features=log2, n_estimators=200;, score=0.999 total time= 1.2min\n",
      "[CV 1/5] END class_weight=balanced_subsample, criterion=gini, max_features=None, n_estimators=100;, score=1.000 total time= 1.5min\n",
      "[CV 2/5] END class_weight=balanced_subsample, criterion=gini, max_features=None, n_estimators=100;, score=1.000 total time= 1.6min\n",
      "[CV 3/5] END class_weight=balanced_subsample, criterion=gini, max_features=None, n_estimators=100;, score=0.999 total time= 1.4min\n",
      "[CV 4/5] END class_weight=balanced_subsample, criterion=gini, max_features=None, n_estimators=100;, score=1.000 total time= 1.6min\n",
      "[CV 5/5] END class_weight=balanced_subsample, criterion=gini, max_features=None, n_estimators=100;, score=1.000 total time= 1.5min\n",
      "[CV 1/5] END class_weight=balanced_subsample, criterion=gini, max_features=None, n_estimators=200;, score=1.000 total time= 3.2min\n",
      "[CV 2/5] END class_weight=balanced_subsample, criterion=gini, max_features=None, n_estimators=200;, score=0.999 total time= 3.1min\n",
      "[CV 3/5] END class_weight=balanced_subsample, criterion=gini, max_features=None, n_estimators=200;, score=0.999 total time= 2.7min\n",
      "[CV 4/5] END class_weight=balanced_subsample, criterion=gini, max_features=None, n_estimators=200;, score=1.000 total time= 3.0min\n",
      "[CV 5/5] END class_weight=balanced_subsample, criterion=gini, max_features=None, n_estimators=200;, score=1.000 total time= 2.7min\n",
      "[CV 1/5] END class_weight=balanced_subsample, criterion=entropy, max_features=auto, n_estimators=100;, score=1.000 total time=  36.4s\n",
      "[CV 2/5] END class_weight=balanced_subsample, criterion=entropy, max_features=auto, n_estimators=100;, score=0.999 total time=  35.8s\n",
      "[CV 3/5] END class_weight=balanced_subsample, criterion=entropy, max_features=auto, n_estimators=100;, score=0.999 total time=  34.1s\n",
      "[CV 4/5] END class_weight=balanced_subsample, criterion=entropy, max_features=auto, n_estimators=100;, score=1.000 total time=  35.9s\n",
      "[CV 5/5] END class_weight=balanced_subsample, criterion=entropy, max_features=auto, n_estimators=100;, score=1.000 total time=  33.9s\n",
      "[CV 1/5] END class_weight=balanced_subsample, criterion=entropy, max_features=auto, n_estimators=200;, score=1.000 total time= 1.2min\n",
      "[CV 2/5] END class_weight=balanced_subsample, criterion=entropy, max_features=auto, n_estimators=200;, score=0.999 total time= 1.1min\n",
      "[CV 3/5] END class_weight=balanced_subsample, criterion=entropy, max_features=auto, n_estimators=200;, score=0.999 total time= 1.2min\n",
      "[CV 4/5] END class_weight=balanced_subsample, criterion=entropy, max_features=auto, n_estimators=200;, score=1.000 total time= 1.2min\n",
      "[CV 5/5] END class_weight=balanced_subsample, criterion=entropy, max_features=auto, n_estimators=200;, score=1.000 total time= 1.2min\n",
      "[CV 1/5] END class_weight=balanced_subsample, criterion=entropy, max_features=sqrt, n_estimators=100;, score=1.000 total time=  34.6s\n",
      "[CV 2/5] END class_weight=balanced_subsample, criterion=entropy, max_features=sqrt, n_estimators=100;, score=0.999 total time=  35.7s\n",
      "[CV 3/5] END class_weight=balanced_subsample, criterion=entropy, max_features=sqrt, n_estimators=100;, score=0.999 total time=  34.4s\n",
      "[CV 4/5] END class_weight=balanced_subsample, criterion=entropy, max_features=sqrt, n_estimators=100;, score=1.000 total time=  36.7s\n",
      "[CV 5/5] END class_weight=balanced_subsample, criterion=entropy, max_features=sqrt, n_estimators=100;, score=1.000 total time=  33.6s\n",
      "[CV 1/5] END class_weight=balanced_subsample, criterion=entropy, max_features=sqrt, n_estimators=200;, score=1.000 total time= 1.2min\n",
      "[CV 2/5] END class_weight=balanced_subsample, criterion=entropy, max_features=sqrt, n_estimators=200;, score=0.999 total time= 1.1min\n",
      "[CV 3/5] END class_weight=balanced_subsample, criterion=entropy, max_features=sqrt, n_estimators=200;, score=0.999 total time= 1.1min\n",
      "[CV 4/5] END class_weight=balanced_subsample, criterion=entropy, max_features=sqrt, n_estimators=200;, score=1.000 total time= 1.2min\n",
      "[CV 5/5] END class_weight=balanced_subsample, criterion=entropy, max_features=sqrt, n_estimators=200;, score=1.000 total time= 1.2min\n",
      "[CV 1/5] END class_weight=balanced_subsample, criterion=entropy, max_features=log2, n_estimators=100;, score=1.000 total time=  34.7s\n",
      "[CV 2/5] END class_weight=balanced_subsample, criterion=entropy, max_features=log2, n_estimators=100;, score=0.999 total time=  35.3s\n",
      "[CV 3/5] END class_weight=balanced_subsample, criterion=entropy, max_features=log2, n_estimators=100;, score=0.999 total time=  34.2s\n",
      "[CV 4/5] END class_weight=balanced_subsample, criterion=entropy, max_features=log2, n_estimators=100;, score=1.000 total time=  38.0s\n",
      "[CV 5/5] END class_weight=balanced_subsample, criterion=entropy, max_features=log2, n_estimators=100;, score=1.000 total time=  34.3s\n",
      "[CV 1/5] END class_weight=balanced_subsample, criterion=entropy, max_features=log2, n_estimators=200;, score=1.000 total time= 1.2min\n",
      "[CV 2/5] END class_weight=balanced_subsample, criterion=entropy, max_features=log2, n_estimators=200;, score=0.999 total time= 1.2min\n",
      "[CV 3/5] END class_weight=balanced_subsample, criterion=entropy, max_features=log2, n_estimators=200;, score=0.999 total time= 1.2min\n",
      "[CV 4/5] END class_weight=balanced_subsample, criterion=entropy, max_features=log2, n_estimators=200;, score=1.000 total time= 1.2min\n",
      "[CV 5/5] END class_weight=balanced_subsample, criterion=entropy, max_features=log2, n_estimators=200;, score=1.000 total time= 1.2min\n",
      "[CV 1/5] END class_weight=balanced_subsample, criterion=entropy, max_features=None, n_estimators=100;, score=1.000 total time= 1.6min\n",
      "[CV 2/5] END class_weight=balanced_subsample, criterion=entropy, max_features=None, n_estimators=100;, score=0.999 total time= 1.6min\n",
      "[CV 3/5] END class_weight=balanced_subsample, criterion=entropy, max_features=None, n_estimators=100;, score=0.999 total time= 1.5min\n",
      "[CV 4/5] END class_weight=balanced_subsample, criterion=entropy, max_features=None, n_estimators=100;, score=1.000 total time= 1.7min\n",
      "[CV 5/5] END class_weight=balanced_subsample, criterion=entropy, max_features=None, n_estimators=100;, score=1.000 total time= 1.6min\n",
      "[CV 1/5] END class_weight=balanced_subsample, criterion=entropy, max_features=None, n_estimators=200;, score=1.000 total time= 3.2min\n",
      "[CV 2/5] END class_weight=balanced_subsample, criterion=entropy, max_features=None, n_estimators=200;, score=0.999 total time= 3.3min\n",
      "[CV 3/5] END class_weight=balanced_subsample, criterion=entropy, max_features=None, n_estimators=200;, score=0.999 total time= 3.3min\n",
      "[CV 4/5] END class_weight=balanced_subsample, criterion=entropy, max_features=None, n_estimators=200;, score=1.000 total time= 3.7min\n",
      "[CV 5/5] END class_weight=balanced_subsample, criterion=entropy, max_features=None, n_estimators=200;, score=1.000 total time= 3.3min\n",
      "[CV 1/5] END class_weight=None, criterion=gini, max_features=auto, n_estimators=100;, score=1.000 total time=  50.1s\n",
      "[CV 2/5] END class_weight=None, criterion=gini, max_features=auto, n_estimators=100;, score=1.000 total time=  47.2s\n",
      "[CV 3/5] END class_weight=None, criterion=gini, max_features=auto, n_estimators=100;, score=0.999 total time=  47.9s\n",
      "[CV 4/5] END class_weight=None, criterion=gini, max_features=auto, n_estimators=100;, score=0.999 total time=  50.7s\n",
      "[CV 5/5] END class_weight=None, criterion=gini, max_features=auto, n_estimators=100;, score=1.000 total time=  47.7s\n",
      "[CV 1/5] END class_weight=None, criterion=gini, max_features=auto, n_estimators=200;, score=1.000 total time= 1.9min\n",
      "[CV 2/5] END class_weight=None, criterion=gini, max_features=auto, n_estimators=200;, score=1.000 total time= 1.6min\n",
      "[CV 3/5] END class_weight=None, criterion=gini, max_features=auto, n_estimators=200;, score=0.999 total time= 1.7min\n",
      "[CV 4/5] END class_weight=None, criterion=gini, max_features=auto, n_estimators=200;, score=1.000 total time= 1.7min\n",
      "[CV 5/5] END class_weight=None, criterion=gini, max_features=auto, n_estimators=200;, score=1.000 total time= 1.6min\n",
      "[CV 1/5] END class_weight=None, criterion=gini, max_features=sqrt, n_estimators=100;, score=1.000 total time=  47.7s\n",
      "[CV 2/5] END class_weight=None, criterion=gini, max_features=sqrt, n_estimators=100;, score=1.000 total time=  49.7s\n",
      "[CV 3/5] END class_weight=None, criterion=gini, max_features=sqrt, n_estimators=100;, score=0.999 total time=  49.1s\n",
      "[CV 4/5] END class_weight=None, criterion=gini, max_features=sqrt, n_estimators=100;, score=0.999 total time=  51.7s\n",
      "[CV 5/5] END class_weight=None, criterion=gini, max_features=sqrt, n_estimators=100;, score=1.000 total time=  46.5s\n",
      "[CV 1/5] END class_weight=None, criterion=gini, max_features=sqrt, n_estimators=200;, score=1.000 total time= 1.7min\n",
      "[CV 2/5] END class_weight=None, criterion=gini, max_features=sqrt, n_estimators=200;, score=1.000 total time= 1.6min\n",
      "[CV 3/5] END class_weight=None, criterion=gini, max_features=sqrt, n_estimators=200;, score=0.999 total time= 1.6min\n",
      "[CV 4/5] END class_weight=None, criterion=gini, max_features=sqrt, n_estimators=200;, score=1.000 total time= 1.8min\n",
      "[CV 5/5] END class_weight=None, criterion=gini, max_features=sqrt, n_estimators=200;, score=1.000 total time= 1.7min\n",
      "[CV 1/5] END class_weight=None, criterion=gini, max_features=log2, n_estimators=100;, score=1.000 total time=  50.2s\n",
      "[CV 2/5] END class_weight=None, criterion=gini, max_features=log2, n_estimators=100;, score=1.000 total time=  47.3s\n",
      "[CV 3/5] END class_weight=None, criterion=gini, max_features=log2, n_estimators=100;, score=0.999 total time=  47.1s\n",
      "[CV 4/5] END class_weight=None, criterion=gini, max_features=log2, n_estimators=100;, score=1.000 total time=  51.2s\n",
      "[CV 5/5] END class_weight=None, criterion=gini, max_features=log2, n_estimators=100;, score=1.000 total time=  48.3s\n",
      "[CV 1/5] END class_weight=None, criterion=gini, max_features=log2, n_estimators=200;, score=1.000 total time= 1.7min\n",
      "[CV 2/5] END class_weight=None, criterion=gini, max_features=log2, n_estimators=200;, score=1.000 total time= 1.6min\n",
      "[CV 3/5] END class_weight=None, criterion=gini, max_features=log2, n_estimators=200;, score=0.999 total time= 1.5min\n",
      "[CV 4/5] END class_weight=None, criterion=gini, max_features=log2, n_estimators=200;, score=1.000 total time= 1.7min\n",
      "[CV 5/5] END class_weight=None, criterion=gini, max_features=log2, n_estimators=200;, score=1.000 total time= 1.6min\n",
      "[CV 1/5] END class_weight=None, criterion=gini, max_features=None, n_estimators=100;, score=1.000 total time= 2.4min\n",
      "[CV 2/5] END class_weight=None, criterion=gini, max_features=None, n_estimators=100;, score=1.000 total time= 2.2min\n",
      "[CV 3/5] END class_weight=None, criterion=gini, max_features=None, n_estimators=100;, score=0.999 total time= 2.0min\n",
      "[CV 4/5] END class_weight=None, criterion=gini, max_features=None, n_estimators=100;, score=0.999 total time= 2.3min\n",
      "[CV 5/5] END class_weight=None, criterion=gini, max_features=None, n_estimators=100;, score=1.000 total time= 2.1min\n",
      "[CV 1/5] END class_weight=None, criterion=gini, max_features=None, n_estimators=200;, score=1.000 total time= 4.6min\n",
      "[CV 2/5] END class_weight=None, criterion=gini, max_features=None, n_estimators=200;, score=1.000 total time= 4.3min\n",
      "[CV 3/5] END class_weight=None, criterion=gini, max_features=None, n_estimators=200;, score=0.999 total time= 4.1min\n",
      "[CV 4/5] END class_weight=None, criterion=gini, max_features=None, n_estimators=200;, score=0.999 total time= 4.8min\n",
      "[CV 5/5] END class_weight=None, criterion=gini, max_features=None, n_estimators=200;, score=1.000 total time= 4.3min\n",
      "[CV 1/5] END class_weight=None, criterion=entropy, max_features=auto, n_estimators=100;, score=1.000 total time=  39.1s\n",
      "[CV 2/5] END class_weight=None, criterion=entropy, max_features=auto, n_estimators=100;, score=1.000 total time=  38.6s\n",
      "[CV 3/5] END class_weight=None, criterion=entropy, max_features=auto, n_estimators=100;, score=0.999 total time=  38.6s\n",
      "[CV 4/5] END class_weight=None, criterion=entropy, max_features=auto, n_estimators=100;, score=1.000 total time=  41.1s\n",
      "[CV 5/5] END class_weight=None, criterion=entropy, max_features=auto, n_estimators=100;, score=1.000 total time=  38.1s\n",
      "[CV 1/5] END class_weight=None, criterion=entropy, max_features=auto, n_estimators=200;, score=1.000 total time= 1.5min\n",
      "[CV 2/5] END class_weight=None, criterion=entropy, max_features=auto, n_estimators=200;, score=1.000 total time= 1.4min\n",
      "[CV 3/5] END class_weight=None, criterion=entropy, max_features=auto, n_estimators=200;, score=0.999 total time= 1.4min\n",
      "[CV 4/5] END class_weight=None, criterion=entropy, max_features=auto, n_estimators=200;, score=1.000 total time= 1.6min\n",
      "[CV 5/5] END class_weight=None, criterion=entropy, max_features=auto, n_estimators=200;, score=1.000 total time= 1.5min\n",
      "[CV 1/5] END class_weight=None, criterion=entropy, max_features=sqrt, n_estimators=100;, score=1.000 total time=  47.3s\n",
      "[CV 2/5] END class_weight=None, criterion=entropy, max_features=sqrt, n_estimators=100;, score=0.999 total time=  43.2s\n",
      "[CV 3/5] END class_weight=None, criterion=entropy, max_features=sqrt, n_estimators=100;, score=0.999 total time=  45.1s\n",
      "[CV 4/5] END class_weight=None, criterion=entropy, max_features=sqrt, n_estimators=100;, score=1.000 total time=  45.8s\n",
      "[CV 5/5] END class_weight=None, criterion=entropy, max_features=sqrt, n_estimators=100;, score=1.000 total time=  46.7s\n",
      "[CV 1/5] END class_weight=None, criterion=entropy, max_features=sqrt, n_estimators=200;, score=1.000 total time= 1.6min\n",
      "[CV 2/5] END class_weight=None, criterion=entropy, max_features=sqrt, n_estimators=200;, score=1.000 total time= 1.5min\n",
      "[CV 3/5] END class_weight=None, criterion=entropy, max_features=sqrt, n_estimators=200;, score=0.999 total time= 1.4min\n",
      "[CV 4/5] END class_weight=None, criterion=entropy, max_features=sqrt, n_estimators=200;, score=1.000 total time= 1.5min\n",
      "[CV 5/5] END class_weight=None, criterion=entropy, max_features=sqrt, n_estimators=200;, score=1.000 total time= 1.3min\n",
      "[CV 1/5] END class_weight=None, criterion=entropy, max_features=log2, n_estimators=100;, score=1.000 total time=  44.3s\n",
      "[CV 2/5] END class_weight=None, criterion=entropy, max_features=log2, n_estimators=100;, score=1.000 total time=  43.8s\n",
      "[CV 3/5] END class_weight=None, criterion=entropy, max_features=log2, n_estimators=100;, score=0.999 total time=  39.2s\n",
      "[CV 4/5] END class_weight=None, criterion=entropy, max_features=log2, n_estimators=100;, score=1.000 total time=  41.2s\n",
      "[CV 5/5] END class_weight=None, criterion=entropy, max_features=log2, n_estimators=100;, score=1.000 total time=  38.6s\n",
      "[CV 1/5] END class_weight=None, criterion=entropy, max_features=log2, n_estimators=200;, score=1.000 total time= 1.3min\n",
      "[CV 2/5] END class_weight=None, criterion=entropy, max_features=log2, n_estimators=200;, score=1.000 total time= 1.3min\n",
      "[CV 3/5] END class_weight=None, criterion=entropy, max_features=log2, n_estimators=200;, score=0.999 total time= 1.4min\n",
      "[CV 4/5] END class_weight=None, criterion=entropy, max_features=log2, n_estimators=200;, score=0.999 total time= 1.6min\n",
      "[CV 5/5] END class_weight=None, criterion=entropy, max_features=log2, n_estimators=200;, score=1.000 total time= 1.4min\n",
      "[CV 1/5] END class_weight=None, criterion=entropy, max_features=None, n_estimators=100;, score=1.000 total time= 1.9min\n",
      "[CV 2/5] END class_weight=None, criterion=entropy, max_features=None, n_estimators=100;, score=0.999 total time= 1.9min\n",
      "[CV 3/5] END class_weight=None, criterion=entropy, max_features=None, n_estimators=100;, score=0.999 total time= 1.8min\n",
      "[CV 4/5] END class_weight=None, criterion=entropy, max_features=None, n_estimators=100;, score=1.000 total time= 2.1min\n",
      "[CV 5/5] END class_weight=None, criterion=entropy, max_features=None, n_estimators=100;, score=1.000 total time= 1.9min\n",
      "[CV 1/5] END class_weight=None, criterion=entropy, max_features=None, n_estimators=200;, score=1.000 total time= 3.9min\n",
      "[CV 2/5] END class_weight=None, criterion=entropy, max_features=None, n_estimators=200;, score=0.999 total time= 4.2min\n",
      "[CV 3/5] END class_weight=None, criterion=entropy, max_features=None, n_estimators=200;, score=0.999 total time= 3.9min\n",
      "[CV 4/5] END class_weight=None, criterion=entropy, max_features=None, n_estimators=200;, score=0.999 total time= 4.6min\n",
      "[CV 5/5] END class_weight=None, criterion=entropy, max_features=None, n_estimators=200;, score=1.000 total time= 4.1min\n"
     ]
    },
    {
     "data": {
      "text/plain": [
       "GridSearchCV(estimator=RandomForestClassifier(),\n",
       "             param_grid={'class_weight': ['balanced', 'balanced_subsample',\n",
       "                                          None],\n",
       "                         'criterion': ['gini', 'entropy'],\n",
       "                         'max_features': ['auto', 'sqrt', 'log2', None],\n",
       "                         'n_estimators': [100, 200]},\n",
       "             verbose=3)"
      ]
     },
     "execution_count": 53,
     "metadata": {},
     "output_type": "execute_result"
    }
   ],
   "source": [
    "# We train the model with GridSearch.\n",
    "\n",
    "top_random_Tree_Grid.fitt(top_X_train_scaled, top_y_train.flatten())"
   ]
  },
  {
   "cell_type": "code",
   "execution_count": 54,
   "id": "f98f2cf3-5c83-439a-9385-07be3dbce6fd",
   "metadata": {},
   "outputs": [
    {
     "name": "stdout",
     "output_type": "stream",
     "text": [
      "{'class_weight': 'balanced', 'criterion': 'entropy', 'max_features': 'auto', 'n_estimators': 100}\n",
      "0.9995458907797102\n"
     ]
    }
   ],
   "source": [
    "print(top_random_Tree_Grid.best_params_)\n",
    "print(top_random_Tree_Grid.best_score_)"
   ]
  },
  {
   "cell_type": "code",
   "execution_count": 55,
   "id": "9e718e16-59b3-42ed-9166-704107dc906d",
   "metadata": {},
   "outputs": [],
   "source": [
    "# Making predictions by implementing the hyperparameter tuned model.\n",
    "\n",
    "top_random_Tree_Grid_Pred = top_random_Tree_Grid.predict(top_X_test_scaled)"
   ]
  },
  {
   "cell_type": "code",
   "execution_count": 56,
   "id": "ed56a520-9f3d-4a56-b58d-dcee583267d0",
   "metadata": {},
   "outputs": [
    {
     "name": "stdout",
     "output_type": "stream",
     "text": [
      "                precision    recall  f1-score   support\n",
      "\n",
      "Non Fraudulent       1.00      1.00      1.00     71089\n",
      "    Fraudulent       0.94      0.78      0.85       113\n",
      "\n",
      "      accuracy                           1.00     71202\n",
      "     macro avg       0.97      0.89      0.93     71202\n",
      "  weighted avg       1.00      1.00      1.00     71202\n",
      "\n"
     ]
    }
   ],
   "source": [
    "print(classification_report(top_y_test.flatten(), top_random_Tree_Grid_Pred,\n",
    "                            target_names=[\"Non Fraudulent\", \"Fraudulent\"]))"
   ]
  },
  {
   "cell_type": "code",
   "execution_count": 57,
   "id": "db86f9ea-8df5-45fc-b33a-015cd4d9ff33",
   "metadata": {},
   "outputs": [
    {
     "data": {
      "text/plain": [
       "RandomForestClassifier(criterion='entropy', max_features='sqrt',\n",
       "                       n_estimators=200)"
      ]
     },
     "execution_count": 57,
     "metadata": {},
     "output_type": "execute_result"
    }
   ],
   "source": [
    "top_hypertuned_random_Tree_Model = RandomForestClassifier(criterion = 'entropy', \n",
    "                                                       max_features = 'sqrt', \n",
    "                                                       n_estimators = 200, \n",
    "                                                       class_weight = None)\n",
    "top_hypertuned_random_Tree_Model"
   ]
  },
  {
   "cell_type": "code",
   "execution_count": 58,
   "id": "d5c56413-bcfe-443a-905d-09981e72c9e1",
   "metadata": {},
   "outputs": [
    {
     "data": {
      "text/plain": [
       "RandomForestClassifier(criterion='entropy', max_features='sqrt',\n",
       "                       n_estimators=200)"
      ]
     },
     "execution_count": 58,
     "metadata": {},
     "output_type": "execute_result"
    }
   ],
   "source": [
    "top_hypertuned_random_Tree_Model.fit(top_X_train_scaled, top_y_train.flatten())"
   ]
  },
  {
   "cell_type": "code",
   "execution_count": 59,
   "id": "3d1d7556-ca31-4897-8abf-9bd576707ea9",
   "metadata": {},
   "outputs": [
    {
     "name": "stdout",
     "output_type": "stream",
     "text": [
      "Training Data Score: 1.0\n",
      "Testing Data Score: 0.9995084407741356\n"
     ]
    }
   ],
   "source": [
    "print(f\"Training Data Score: {top_hypertuned_random_Tree_Model.score(top_X_train_scaled, top_y_train)}\")\n",
    "print(f\"Testing Data Score: {top_hypertuned_random_Tree_Model.score(top_X_test_scaled, top_y_test)}\")"
   ]
  },
  {
   "cell_type": "code",
   "execution_count": 61,
   "id": "3da6cb7d-6d69-4442-966e-96529afa5444",
   "metadata": {},
   "outputs": [],
   "source": [
    "top_hypertuned_random_Tree_Model_Pred = top_hypertuned_random_Tree_Model.predict(top_X_test_scaled)"
   ]
  },
  {
   "cell_type": "code",
   "execution_count": 62,
   "id": "678005fc-49ac-4a34-91a6-81c905045e69",
   "metadata": {},
   "outputs": [],
   "source": [
    "top_hypertuned_random_Tree_Model_Pred_Proba = top_hypertuned_random_Tree_Model.predict_proba(top_X_test_scaled)[:,1]"
   ]
  },
  {
   "cell_type": "code",
   "execution_count": 63,
   "id": "fda851e3-2328-42a9-a11f-bbbec930b6ff",
   "metadata": {},
   "outputs": [
    {
     "name": "stdout",
     "output_type": "stream",
     "text": [
      "                precision    recall  f1-score   support\n",
      "\n",
      "Non Fraudulent       1.00      1.00      1.00     71089\n",
      "    Fraudulent       0.90      0.78      0.83       113\n",
      "\n",
      "      accuracy                           1.00     71202\n",
      "     macro avg       0.95      0.89      0.92     71202\n",
      "  weighted avg       1.00      1.00      1.00     71202\n",
      "\n"
     ]
    }
   ],
   "source": [
    "print(classification_report(top_y_test.flatten(), top_hypertuned_random_Tree_Model_Pred,\n",
    "                            target_names=[\"Non Fraudulent\", \"Fraudulent\"]))"
   ]
  },
  {
   "cell_type": "code",
   "execution_count": 64,
   "id": "f77879fe-f49d-41a7-8b51-6be10e782207",
   "metadata": {},
   "outputs": [
    {
     "name": "stdout",
     "output_type": "stream",
     "text": [
      "Random Forest Classifier\n",
      "========================\n",
      "Accuracy:  0.9995084407741356\n",
      "Precision:  0.8979591836734694\n",
      "Recall:  0.7787610619469026\n",
      "F1-Score:  0.8341232227488151\n",
      "AUC score:  0.8893101966038582\n",
      "                precision    recall  f1-score   support\n",
      "\n",
      "Non Fraudulent       1.00      1.00      1.00     71089\n",
      "    Fraudulent       0.90      0.78      0.83       113\n",
      "\n",
      "      accuracy                           1.00     71202\n",
      "     macro avg       0.95      0.89      0.92     71202\n",
      "  weighted avg       1.00      1.00      1.00     71202\n",
      "\n"
     ]
    },
    {
     "data": {
      "image/png": "[encoded data removed]",
      "text/plain": [
       "<Figure size 432x288 with 1 Axes>"
      ]
     },
     "metadata": {
      "needs_background": "light"
     },
     "output_type": "display_data"
    },
    {
     "data": {
      "image/png": "[encoded data removed]",
      "text/plain": [
       "<Figure size 432x432 with 2 Axes>"
      ]
     },
     "metadata": {
      "needs_background": "light"
     },
     "output_type": "display_data"
    }
   ],
   "source": [
    "print(\"Random Forest Classifier\")\n",
    "print(\"========================\")\n",
    "print(\"Accuracy: \",accuracy_score(y_test.flatten(), top_hypertuned_random_Tree_Model_Pred)) \n",
    "print(\"Precision: \",precision_score(y_test.flatten(), top_hypertuned_random_Tree_Model_Pred))\n",
    "print(\"Recall: \",recall_score(y_test.flatten(), top_hypertuned_random_Tree_Model_Pred))\n",
    "print(\"F1-Score: \",f1_score(y_test.flatten(), top_hypertuned_random_Tree_Model_Pred))\n",
    "print(\"AUC score: \",roc_auc_score(y_test.flatten(), top_hypertuned_random_Tree_Model_Pred))\n",
    "print(classification_report(y_test.flatten(), top_hypertuned_random_Tree_Model_Pred,\n",
    "                            target_names=[\"Non Fraudulent\", \"Fraudulent\"]))\n",
    "p, r, t = precision_recall_curve(y_test.flatten(), top_hypertuned_random_Tree_Model_Pred_Proba)\n",
    "plt.plot(p, r)\n",
    "plt.xlabel('Recall')\n",
    "plt.ylabel('Precision')\n",
    "plt.title('Precision Recall Curve - Random Forest Classifier')\n",
    "confusion_Matrix = confusion_matrix(y_test.flatten(), top_hypertuned_random_Tree_Model_Pred) \n",
    "plt.figure(figsize =(6, 6)) \n",
    "sns.heatmap(confusion_Matrix, xticklabels = ['Non Fraudulent', 'Fraudulent'],  \n",
    "            yticklabels = ['Non Fraudulent', 'Fraudulent'], annot = True, fmt =\"d\"); \n",
    "plt.title(\"Confusion matrix - Random Forest Classifier\") \n",
    "plt.ylabel('Actual Class') \n",
    "plt.xlabel('Predicted class') \n",
    "plt.show()"
   ]
  },
  {
   "cell_type": "code",
   "execution_count": 65,
   "id": "1dd67932-2983-4bfa-a725-f1ebb8d92ed1",
   "metadata": {},
   "outputs": [
    {
     "data": {
      "image/png": "[encoded data removed]",
      "text/plain": [
       "<Figure size 864x864 with 1 Axes>"
      ]
     },
     "metadata": {
      "needs_background": "light"
     },
     "output_type": "display_data"
    }
   ],
   "source": [
    "plt.figure(figsize =(12, 12)) \n",
    "p, r, t = precision_recall_curve(y_test.flatten(), random_Tree_Pred_Proba)\n",
    "plt.plot(p, r, label=\"All features\")\n",
    "p, r, t = precision_recall_curve(y_test.flatten(), random_Tree_Grid_Pred_Proba)\n",
    "plt.plot(p, r, label=\"After Hyperparameter Tuning\")\n",
    "p, r, t = precision_recall_curve(y_test.flatten(), top_random_Tree_Pred_Proba)\n",
    "plt.plot(p, r, label=\"After feature selection\")\n",
    "p, r, t = precision_recall_curve(y_test.flatten(), top_hypertuned_random_Tree_Model_Pred_Proba)\n",
    "plt.plot(p, r, label=\"After Hyperparameter Tuning & Feature Selection\")\n",
    "plt.xlabel('Recall')\n",
    "plt.ylabel('Precision')\n",
    "plt.title('Precision Recall Curve - Random Forest Classifier')\n",
    "plt.legend()\n",
    "plt.show()"
   ]
  },
  {
   "cell_type": "markdown",
   "id": "4e9f9c71-8882-4fff-a2fe-a595813e2107",
   "metadata": {},
   "source": [
    "## Save the Model"
   ]
  },
  {
   "cell_type": "code",
   "execution_count": 66,
   "id": "018884cf-fab4-4a0f-a1d4-ac738185cc02",
   "metadata": {},
   "outputs": [
    {
     "data": {
      "text/plain": [
       "['RandomForestClassifierModel.sav']"
      ]
     },
     "execution_count": 66,
     "metadata": {},
     "output_type": "execute_result"
    }
   ],
   "source": [
    "filename = 'RandomForestClassifierModel.sav'\n",
    "joblib.dump(top_random_Tree_Model, filename)"
   ]
  },
  {
   "cell_type": "code",
   "execution_count": null,
   "id": "1dae9538-c855-46bf-b235-18a18b30359a",
   "metadata": {},
   "outputs": [],
   "source": []
  }
 ],
 "metadata": {
  "kernelspec": {
   "display_name": "Python 3 (ipykernel)",
   "language": "python",
   "name": "python3"
  },
  "language_info": {
   "codemirror_mode": {
    "name": "ipython",
    "version": 3
   },
   "file_extension": ".py",
   "mimetype": "text/x-python",
   "name": "python",
   "nbconvert_exporter": "python",
   "pygments_lexer": "ipython3",
   "version": "3.9.12"
  }
 },
 "nbformat": 4,
 "nbformat_minor": 5
}
